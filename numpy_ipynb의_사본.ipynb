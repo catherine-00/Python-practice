{
  "cells": [
    {
      "cell_type": "code",
      "execution_count": null,
      "metadata": {
        "id": "O80mn6FM3sem"
      },
      "outputs": [],
      "source": [
        "import numpy as np\n",
        "import matplotlib.pyplot as plt\n",
        "import pandas as pd\n",
        "\n",
        "# numpy 출력 형식 지정\n",
        "np.set_printoptions(precision=4, linewidth=150)"
      ]
    },
    {
      "cell_type": "markdown",
      "metadata": {
        "id": "c9GhfzAs2yMm"
      },
      "source": [
        "## Numpy"
      ]
    },
    {
      "cell_type": "markdown",
      "metadata": {
        "id": "ESPAHZWo27zB"
      },
      "source": [
        "### ndarray 기본생성\n",
        "\n",
        "- numpy 어레이는 파이썬 리스트로 부터 `np.array()`를 써서 생성할 수 있습니다.\n",
        "\n",
        "- 이름이 기본적으로 `ndarray`이니 만큼 숫자들이 늘어선 방향이 여러개가 되는, 다시말해 다차원 어레이를 기본으로 지원합니다."
      ]
    },
    {
      "cell_type": "code",
      "execution_count": null,
      "metadata": {
        "colab": {
          "base_uri": "https://localhost:8080/"
        },
        "id": "wPEzISSI4xHz",
        "outputId": "348af02f-b48e-454d-9145-33ad9df41084"
      },
      "outputs": [
        {
          "data": {
            "text/plain": [
              "array([[1, 2],\n",
              "       [3, 4]])"
            ]
          },
          "execution_count": 5,
          "metadata": {},
          "output_type": "execute_result"
        }
      ],
      "source": [
        "# 기본생성\n",
        "A = np.array([1,2])\n",
        "A = np.array([[1,2],[3,4]])\n",
        "A"
      ]
    },
    {
      "cell_type": "code",
      "execution_count": null,
      "metadata": {
        "colab": {
          "base_uri": "https://localhost:8080/"
        },
        "id": "JpvhAipgEolI",
        "outputId": "96f58e0b-f6f0-4eb2-a3e4-43a4b67f3ec9"
      },
      "outputs": [
        {
          "data": {
            "text/plain": [
              "array([ 1,  2,  3,  4,  5,  6,  7,  8,  9, 10])"
            ]
          },
          "execution_count": 7,
          "metadata": {},
          "output_type": "execute_result"
        }
      ],
      "source": [
        "# list로 부터 array 생성\n",
        "np.array( [i+1 for i in range(10)] )"
      ]
    },
    {
      "cell_type": "code",
      "execution_count": null,
      "metadata": {
        "colab": {
          "base_uri": "https://localhost:8080/"
        },
        "id": "UOh7s-40a9GP",
        "outputId": "746d2dd5-5737-4aa2-d61c-b9fc9be4cf96"
      },
      "outputs": [
        {
          "data": {
            "text/plain": [
              "array([[1, 2],\n",
              "       [3, 4]])"
            ]
          },
          "execution_count": 9,
          "metadata": {},
          "output_type": "execute_result"
        }
      ],
      "source": [
        "#[참고] 판다스 객체에서 array생성\n",
        "df = pd.DataFrame([[1,2],[3,4]])\n",
        "\n",
        "df.to_numpy()"
      ]
    },
    {
      "cell_type": "markdown",
      "metadata": {
        "id": "J4I_WOwoG8qZ"
      },
      "source": [
        "- 그외 편의 함수를 많이 제공하는데 `ones`, `zeros`, `eye`따위가 있습니다."
      ]
    },
    {
      "cell_type": "code",
      "execution_count": null,
      "metadata": {
        "colab": {
          "base_uri": "https://localhost:8080/"
        },
        "id": "cmnPB7xnEp6r",
        "outputId": "c42c9584-84f4-4c6e-f0c3-8fe767d69cec"
      },
      "outputs": [
        {
          "data": {
            "text/plain": [
              "array([[[1., 1.],\n",
              "        [1., 1.],\n",
              "        [1., 1.],\n",
              "        [1., 1.],\n",
              "        [1., 1.]],\n",
              "\n",
              "       [[1., 1.],\n",
              "        [1., 1.],\n",
              "        [1., 1.],\n",
              "        [1., 1.],\n",
              "        [1., 1.]],\n",
              "\n",
              "       [[1., 1.],\n",
              "        [1., 1.],\n",
              "        [1., 1.],\n",
              "        [1., 1.],\n",
              "        [1., 1.]]])"
            ]
          },
          "execution_count": 12,
          "metadata": {},
          "output_type": "execute_result"
        }
      ],
      "source": [
        "# ones: 1로 채워진 array\n",
        "np.ones((3,5,2))\n",
        "\n"
      ]
    },
    {
      "cell_type": "code",
      "execution_count": null,
      "metadata": {
        "colab": {
          "base_uri": "https://localhost:8080/"
        },
        "id": "hPvQW-JUHOqs",
        "outputId": "30a6744b-cebc-4887-9e37-fcf38b9feea0"
      },
      "outputs": [
        {
          "data": {
            "text/plain": [
              "array([[[0., 0.],\n",
              "        [0., 0.],\n",
              "        [0., 0.],\n",
              "        [0., 0.],\n",
              "        [0., 0.]],\n",
              "\n",
              "       [[0., 0.],\n",
              "        [0., 0.],\n",
              "        [0., 0.],\n",
              "        [0., 0.],\n",
              "        [0., 0.]],\n",
              "\n",
              "       [[0., 0.],\n",
              "        [0., 0.],\n",
              "        [0., 0.],\n",
              "        [0., 0.],\n",
              "        [0., 0.]]])"
            ]
          },
          "execution_count": 13,
          "metadata": {},
          "output_type": "execute_result"
        }
      ],
      "source": [
        "# zeros: 0으로 채워진 array\n",
        "np.zeros((3,5,2))\n"
      ]
    },
    {
      "cell_type": "code",
      "execution_count": null,
      "metadata": {
        "colab": {
          "base_uri": "https://localhost:8080/"
        },
        "id": "wUpvSsYqEpzT",
        "outputId": "4598b94f-2373-432b-cb24-378bb450ab78"
      },
      "outputs": [
        {
          "data": {
            "text/plain": [
              "array([[1., 0., 0., 0., 0.],\n",
              "       [0., 1., 0., 0., 0.],\n",
              "       [0., 0., 1., 0., 0.],\n",
              "       [0., 0., 0., 1., 0.],\n",
              "       [0., 0., 0., 0., 1.]])"
            ]
          },
          "execution_count": 14,
          "metadata": {},
          "output_type": "execute_result"
        }
      ],
      "source": [
        "# eye: 정사각 모양의 array에서 대각선만 1로 채운 array\n",
        "np.eye(5)\n"
      ]
    },
    {
      "cell_type": "markdown",
      "metadata": {
        "id": "zG9H_uN7Har2"
      },
      "source": [
        "- 또 어레이의 요소를 랜덤으로 채워주는 함수를 많이 사용합니다."
      ]
    },
    {
      "cell_type": "code",
      "execution_count": null,
      "metadata": {
        "colab": {
          "base_uri": "https://localhost:8080/"
        },
        "id": "yeZYgOjj4xCa",
        "outputId": "892eb4a5-1f04-4fa4-8504-09f13dc8909c"
      },
      "outputs": [
        {
          "data": {
            "text/plain": [
              "array([0.2756, 0.4718, 0.2267, 0.2716, 0.2173, 0.0525, 0.4287, 0.383 , 0.5357, 0.447 ])"
            ]
          },
          "execution_count": 15,
          "metadata": {},
          "output_type": "execute_result"
        }
      ],
      "source": [
        "# 랜덤으로 생성\n",
        "np.random.rand(10)\n"
      ]
    },
    {
      "cell_type": "markdown",
      "metadata": {
        "id": "9mW7fYyS2_7j"
      },
      "source": [
        "### ndarray 연산\n",
        "\n",
        "- `ndarray`에 대한 사칙연산은 기본적으로 요소별 연산이 수행됩니다."
      ]
    },
    {
      "cell_type": "code",
      "execution_count": null,
      "metadata": {
        "id": "vn-r6lW_5ESp"
      },
      "outputs": [],
      "source": [
        "A = np.array([[1,3,4], [5,3,4], [4,5,2]])\n",
        "B = np.array([[5,7,3], [2,1,1], [5,6,3]])"
      ]
    },
    {
      "cell_type": "code",
      "execution_count": null,
      "metadata": {
        "colab": {
          "base_uri": "https://localhost:8080/"
        },
        "id": "tRy7r9T7JN2S",
        "outputId": "71c6cfe2-82dc-445c-fe3c-db2047f0f589"
      },
      "outputs": [
        {
          "name": "stdout",
          "output_type": "stream",
          "text": [
            "[[1 3 4]\n",
            " [5 3 4]\n",
            " [4 5 2]]\n",
            "[[5 7 3]\n",
            " [2 1 1]\n",
            " [5 6 3]]\n"
          ]
        }
      ],
      "source": [
        "print(A)\n",
        "print(B)"
      ]
    },
    {
      "cell_type": "code",
      "execution_count": null,
      "metadata": {
        "colab": {
          "base_uri": "https://localhost:8080/"
        },
        "id": "OzPE3FMd51LA",
        "outputId": "081229a1-49f8-4924-9b41-14f95d03de9b"
      },
      "outputs": [
        {
          "data": {
            "text/plain": [
              "array([[ 6, 10,  7],\n",
              "       [ 7,  4,  5],\n",
              "       [ 9, 11,  5]])"
            ]
          },
          "execution_count": 18,
          "metadata": {},
          "output_type": "execute_result"
        }
      ],
      "source": [
        "# 덧셈\n",
        "A+B"
      ]
    },
    {
      "cell_type": "code",
      "execution_count": null,
      "metadata": {
        "colab": {
          "base_uri": "https://localhost:8080/"
        },
        "id": "q4OYMi-051EG",
        "outputId": "4e6068b3-08e4-4c55-b29d-34dc50e91e05"
      },
      "outputs": [
        {
          "data": {
            "text/plain": [
              "array([[-4, -4,  1],\n",
              "       [ 3,  2,  3],\n",
              "       [-1, -1, -1]])"
            ]
          },
          "execution_count": 19,
          "metadata": {},
          "output_type": "execute_result"
        }
      ],
      "source": [
        "# 뺄셈\n",
        "A-B"
      ]
    },
    {
      "cell_type": "code",
      "execution_count": null,
      "metadata": {
        "colab": {
          "base_uri": "https://localhost:8080/"
        },
        "id": "XBYDEC5Y53Pb",
        "outputId": "c28968e3-1a46-4b6c-baf0-53f8d3e26000"
      },
      "outputs": [
        {
          "data": {
            "text/plain": [
              "array([[0.2   , 0.4286, 1.3333],\n",
              "       [2.5   , 3.    , 4.    ],\n",
              "       [0.8   , 0.8333, 0.6667]])"
            ]
          },
          "execution_count": 20,
          "metadata": {},
          "output_type": "execute_result"
        }
      ],
      "source": [
        "# 나눗셈\n",
        "A/B"
      ]
    },
    {
      "cell_type": "code",
      "execution_count": null,
      "metadata": {
        "colab": {
          "base_uri": "https://localhost:8080/"
        },
        "id": "8q_mmxLw5Oxx",
        "outputId": "5eb5c78f-821d-4fd2-d3da-7e2af77fd935"
      },
      "outputs": [
        {
          "data": {
            "text/plain": [
              "array([[ 5, 21, 12],\n",
              "       [10,  3,  4],\n",
              "       [20, 30,  6]])"
            ]
          },
          "execution_count": 21,
          "metadata": {},
          "output_type": "execute_result"
        }
      ],
      "source": [
        "# 곱셈: 곱은 행렬곱이 아님\n",
        "A*B"
      ]
    },
    {
      "cell_type": "markdown",
      "metadata": {
        "id": "cHF0YQX6ICLd"
      },
      "source": [
        "- 곱셈의 경우 기본적으로 요소별 곱셈이 수행되지만 앞으로 자주 사용하게 될 연산은 행렬곱이므로 행렬곱을 수행하고 싶다면 `np.dot()`를 사용해야 합니다.\n",
        "\n",
        "- 도트(내적,점곱)연산은 숫자 여러개가 들어있는 두 벡터를 곱하는 연산으로 각 벡터에 같은 위치에 있는 숫자를 서로 곱하고 그 결과를 모두 더해서 숫자 하나로 만드는 연산입니다.\n",
        "\n",
        "- 아래 파이썬 리스트로 간단히 내적을 수행하는 코드가 있습니다."
      ]
    },
    {
      "cell_type": "code",
      "execution_count": null,
      "metadata": {
        "colab": {
          "base_uri": "https://localhost:8080/"
        },
        "id": "CMki8GCbIpR3",
        "outputId": "5c2aee99-6622-4725-8734-f3010afc2dbc"
      },
      "outputs": [
        {
          "name": "stdout",
          "output_type": "stream",
          "text": [
            "130.0\n"
          ]
        },
        {
          "data": {
            "text/plain": [
              "np.int64(130)"
            ]
          },
          "execution_count": 23,
          "metadata": {},
          "output_type": "execute_result"
        }
      ],
      "source": [
        "# 내적(dot) 연산이란?\n",
        "foo = [1, 2, 3, 4,  5]\n",
        "bar = [6, 7, 8, 9, 10]\n",
        "\n",
        "inner_prod = 0.0\n",
        "\n",
        "for f, b in zip(foo, bar):\n",
        "    inner_prod += f*b\n",
        "\n",
        "print(inner_prod)\n",
        "\n",
        "np.dot(foo, bar)"
      ]
    },
    {
      "cell_type": "markdown",
      "metadata": {
        "id": "EJmxdjwJI9gs"
      },
      "source": [
        "- 지금 `A`, `B`에서 가능한 모든 가로, 세로 벡터를 뽑아서 모든 조합에 대해서 내적 연산을 하는 함수가 `np.dot()`입니다."
      ]
    },
    {
      "cell_type": "code",
      "execution_count": null,
      "metadata": {
        "colab": {
          "base_uri": "https://localhost:8080/"
        },
        "id": "4YSc1UcB5TEf",
        "outputId": "b9dbcaa4-986c-441a-8842-2e7d91d5a036"
      },
      "outputs": [
        {
          "data": {
            "text/plain": [
              "array([[31, 34, 18],\n",
              "       [51, 62, 30],\n",
              "       [40, 45, 23]])"
            ]
          },
          "execution_count": 24,
          "metadata": {},
          "output_type": "execute_result"
        }
      ],
      "source": [
        "# 행렬곱은 dot연산의 조합\n",
        "np.dot(A, B)\n"
      ]
    },
    {
      "cell_type": "markdown",
      "metadata": {
        "id": "wjm1OTyR4C2m"
      },
      "source": [
        "### shape\n",
        "\n",
        "- 배열의 모양을 나타냄\n",
        "\n",
        "- 각 축axis 별로 늘어선 숫자의 개수로 표현"
      ]
    },
    {
      "cell_type": "code",
      "execution_count": null,
      "metadata": {
        "id": "zfkJ70Bj4CYa"
      },
      "outputs": [],
      "source": [
        "x = np.array([1,2,3])\n"
      ]
    },
    {
      "cell_type": "code",
      "execution_count": null,
      "metadata": {
        "colab": {
          "base_uri": "https://localhost:8080/"
        },
        "id": "YEA1EMmQ4UCq",
        "outputId": "dee93d1c-772f-4497-e848-a44f8fc83543"
      },
      "outputs": [
        {
          "data": {
            "text/plain": [
              "(2, 3)"
            ]
          },
          "execution_count": 25,
          "metadata": {},
          "output_type": "execute_result"
        }
      ],
      "source": [
        "x = np.array([[1,2,3], [1,2,3]])\n",
        "x.shape"
      ]
    },
    {
      "cell_type": "markdown",
      "metadata": {
        "id": "A8d-s4lpUShl"
      },
      "source": [
        "### reshape\n",
        "\n",
        "- numpy 어레이는 숫자가 늘어선 개수를 조정해서 모양을 바꿀 수 있는데 `reshape()`을 사용합니다.\n",
        "\n",
        "- 이 때 바뀐 모양의 요소수와 바뀌기 전 모양의 요소수는 당연히 일치해야 합니다."
      ]
    },
    {
      "cell_type": "code",
      "execution_count": null,
      "metadata": {
        "colab": {
          "base_uri": "https://localhost:8080/"
        },
        "id": "ZEoKrAYtJzR_",
        "outputId": "a876fc6b-bfb1-4ca2-acdc-9f521d36642c"
      },
      "outputs": [
        {
          "name": "stdout",
          "output_type": "stream",
          "text": [
            "[1 2 3 4 5 6 7 8 9]\n"
          ]
        },
        {
          "data": {
            "text/plain": [
              "array([[1, 2, 3],\n",
              "       [4, 5, 6],\n",
              "       [7, 8, 9]])"
            ]
          },
          "execution_count": 29,
          "metadata": {},
          "output_type": "execute_result"
        }
      ],
      "source": [
        "# 요소 9개짜리 벡터를 3행, 3열 격자형 어레이로 만들기\n",
        "x = np.array([1,2,3,4,5,6,7,8,9])\n",
        "print(x)\n",
        "\n",
        "x.reshape(3,3)\n"
      ]
    },
    {
      "cell_type": "markdown",
      "metadata": {
        "id": "Gk3wWWgKKJno"
      },
      "source": [
        "- 이렇게 숫자가 늘어선 방향의 개수를 차원이라고 합니다.\n",
        "\n",
        "- 위 예에서는 1차원 어레이를 2차원 어레이로 바꾼 예입니다.\n",
        "\n",
        "- 각 방향으로 늘어선 숫자의 개수를 세어 어레이의 모양을 표시합니다. 위 예에서 모양이 바뀐 `x`의 모양은 `(3,3)`입니다.\n",
        "\n",
        "- 그리고 숫자가 늘어선 방향을 축axis라고 이야기 합니다. `(3,3)`에서는 축이 두개가 있는 것입니다.\n",
        "\n",
        "- 축의 순서가 중요한데 `(3,3)`에서 앞의 3은 숫자가 아래쪽으로 늘어선 개수를 말하며 이 축이 0번 축입니다. 뒤에 3은 숫자가 오른쪽으로 늘어선 개수를 말하며 이축은 1번 축입니다.\n",
        "\n",
        "- 아래 인덱싱에서 알아보겠지만 축의 순서대로 인덱싱을 하게 됩니다. 이는 파이썬 리스트와 크게 다르지 않은 일관된 규칙입니다. 단 리스트와 다르게 numpy 어레이는 다차원 즉 축이 많은 경우가 빈번하므로 축의 순서와 숫자가 늘어선 방향을 일치시켜 생각할 수 있어야 합니다.\n"
      ]
    },
    {
      "cell_type": "code",
      "execution_count": null,
      "metadata": {
        "colab": {
          "base_uri": "https://localhost:8080/"
        },
        "id": "4AOYjp_2UVcQ",
        "outputId": "2b178704-5af3-4c71-f3ec-ba06dea64af7"
      },
      "outputs": [
        {
          "name": "stdout",
          "output_type": "stream",
          "text": [
            "[1 2 3]\n",
            "1\n",
            "(3,)\n"
          ]
        }
      ],
      "source": [
        "# .shape를 사용해서 어레이 모양 찍어보기\n",
        "x = np.array([1,2,3])\n",
        "\n",
        "print(x) # x를 출력합니다.\n",
        "print(x.ndim) # x의 차원을 출력합니다.\n",
        "print(x.shape) # x의 실제 모양을 출력합니다."
      ]
    },
    {
      "cell_type": "code",
      "execution_count": null,
      "metadata": {
        "colab": {
          "base_uri": "https://localhost:8080/",
          "height": 167
        },
        "id": "WbrZnEdJvzE1",
        "outputId": "214e08e6-4038-4a6c-c4a2-f8158fc66f0d"
      },
      "outputs": [
        {
          "ename": "AttributeError",
          "evalue": "'int' object has no attribute 'ndim'",
          "output_type": "error",
          "traceback": [
            "\u001b[0;31m---------------------------------------------------------------------------\u001b[0m",
            "\u001b[0;31mAttributeError\u001b[0m                            Traceback (most recent call last)",
            "\u001b[0;32m<ipython-input-38-f307bbe59cdf>\u001b[0m in \u001b[0;36m<cell line: 0>\u001b[0;34m()\u001b[0m\n\u001b[1;32m      1\u001b[0m \u001b[0ma\u001b[0m \u001b[0;34m=\u001b[0m \u001b[0;36m10\u001b[0m\u001b[0;34m\u001b[0m\u001b[0;34m\u001b[0m\u001b[0m\n\u001b[0;32m----> 2\u001b[0;31m \u001b[0ma\u001b[0m\u001b[0;34m.\u001b[0m\u001b[0mndim\u001b[0m\u001b[0;34m\u001b[0m\u001b[0;34m\u001b[0m\u001b[0m\n\u001b[0m",
            "\u001b[0;31mAttributeError\u001b[0m: 'int' object has no attribute 'ndim'"
          ]
        }
      ],
      "source": [
        "# python native int\n",
        "a = 10\n",
        "a.ndim"
      ]
    },
    {
      "cell_type": "code",
      "execution_count": null,
      "metadata": {
        "colab": {
          "base_uri": "https://localhost:8080/"
        },
        "id": "GHqt2gHWve4L",
        "outputId": "92610d1e-6ff7-496e-ee70-060930f7973b"
      },
      "outputs": [
        {
          "data": {
            "text/plain": [
              "1"
            ]
          },
          "execution_count": 40,
          "metadata": {},
          "output_type": "execute_result"
        }
      ],
      "source": [
        "# 0-d numpy array to python navtive int\n",
        "int(x[0])\n",
        "x[0].item()"
      ]
    },
    {
      "cell_type": "markdown",
      "metadata": {
        "id": "TXS-wJc_MSgD"
      },
      "source": [
        "\n",
        "\n",
        "\n",
        "- 아래는 숫자 3개짜리 1차원 어레이에 추가 차원을 하나 더 생성하여 열 또는 행벡터로 만드는 예입니다."
      ]
    },
    {
      "cell_type": "code",
      "execution_count": null,
      "metadata": {
        "colab": {
          "base_uri": "https://localhost:8080/"
        },
        "id": "SkBPVTo-wcwN",
        "outputId": "99b7f501-6c08-46dc-a269-debccc44a573"
      },
      "outputs": [
        {
          "data": {
            "text/plain": [
              "array([1, 2, 3])"
            ]
          },
          "execution_count": 41,
          "metadata": {},
          "output_type": "execute_result"
        }
      ],
      "source": [
        "x"
      ]
    },
    {
      "cell_type": "code",
      "execution_count": null,
      "metadata": {
        "colab": {
          "base_uri": "https://localhost:8080/"
        },
        "id": "S0wtJpa9UfXo",
        "outputId": "801a7d74-9ff5-47ea-ab0c-855760a6069f"
      },
      "outputs": [
        {
          "name": "stdout",
          "output_type": "stream",
          "text": [
            "[[1 2 3]]\n",
            "(1, 3)\n",
            "[[1 2 3]]\n",
            "(1, 3)\n"
          ]
        }
      ],
      "source": [
        "# 행벡터로 만들기\n",
        "x_row_vector1 = x.reshape(1,3)\n",
        "print(x_row_vector1)\n",
        "print(x_row_vector1.shape)\n",
        "\n",
        "x_row_vector2 = x[np.newaxis,:]\n",
        "print(x_row_vector2)\n",
        "print(x_row_vector2.shape)"
      ]
    },
    {
      "cell_type": "code",
      "execution_count": null,
      "metadata": {
        "colab": {
          "base_uri": "https://localhost:8080/"
        },
        "id": "f9cU39Y2YQBi",
        "outputId": "d0618178-4c0d-4997-a030-87ced7765737"
      },
      "outputs": [
        {
          "name": "stdout",
          "output_type": "stream",
          "text": [
            "[[1]\n",
            " [2]\n",
            " [3]]\n",
            "(3, 1)\n",
            "[[1]\n",
            " [2]\n",
            " [3]]\n",
            "(3, 1)\n"
          ]
        }
      ],
      "source": [
        "# 열벡터로 만들기\n",
        "x_col_vector1 = x.reshape(3,1)\n",
        "print(x_col_vector1)\n",
        "print(x_col_vector1.shape)\n",
        "\n",
        "x_col_vector2 = x[:, np.newaxis]\n",
        "print(x_col_vector2)\n",
        "print(x_col_vector2.shape)"
      ]
    },
    {
      "cell_type": "markdown",
      "metadata": {
        "id": "LncQpwBFKzT_"
      },
      "source": [
        "- 다음 예는 2차원 어레이를 3차원으로 만들었다 다시 2차원으로 복원하는 것을 보여줍니다."
      ]
    },
    {
      "cell_type": "code",
      "execution_count": null,
      "metadata": {
        "colab": {
          "base_uri": "https://localhost:8080/"
        },
        "id": "sEYJo3_9Ytys",
        "outputId": "401e7345-0b36-4929-c55a-6754f4104260"
      },
      "outputs": [
        {
          "data": {
            "text/plain": [
              "array([[ 0,  1,  2],\n",
              "       [ 3,  4,  5],\n",
              "       [ 6,  7,  8],\n",
              "       [ 9, 10, 11]])"
            ]
          },
          "execution_count": 44,
          "metadata": {},
          "output_type": "execute_result"
        }
      ],
      "source": [
        "# 2차원 이상 어레이에 대한 reshape\n",
        "A = np.array([[0,1,2],[3,4,5],[6,7,8],[9,10,11]])\n",
        "A"
      ]
    },
    {
      "cell_type": "code",
      "execution_count": null,
      "metadata": {
        "colab": {
          "base_uri": "https://localhost:8080/"
        },
        "id": "VVK3cW47Y6l7",
        "outputId": "17ac1b7b-8ffd-4602-f4c2-b6424018d775"
      },
      "outputs": [
        {
          "data": {
            "text/plain": [
              "array([[[ 0,  1,  2],\n",
              "        [ 3,  4,  5]],\n",
              "\n",
              "       [[ 6,  7,  8],\n",
              "        [ 9, 10, 11]]])"
            ]
          },
          "execution_count": 45,
          "metadata": {},
          "output_type": "execute_result"
        }
      ],
      "source": [
        "# (2,2,3)\n",
        "A_ = A.reshape(2, 2, 3)\n",
        "A_"
      ]
    },
    {
      "cell_type": "code",
      "execution_count": null,
      "metadata": {
        "colab": {
          "base_uri": "https://localhost:8080/"
        },
        "id": "Psgt4cLvZkAJ",
        "outputId": "35d86dd3-3a72-4119-e7fe-e0c86048aa32"
      },
      "outputs": [
        {
          "data": {
            "text/plain": [
              "array([[ 0,  1,  2,  3],\n",
              "       [ 4,  5,  6,  7],\n",
              "       [ 8,  9, 10, 11]])"
            ]
          },
          "execution_count": 52,
          "metadata": {},
          "output_type": "execute_result"
        }
      ],
      "source": [
        "# (4,3)으로 복원\n",
        "# A_.reshape(4, 3)\n",
        "A_.reshape(4, -1)\n",
        "A_.reshape(-1, 4)"
      ]
    },
    {
      "cell_type": "markdown",
      "metadata": {
        "id": "LQ6KAeDALZce"
      },
      "source": [
        "- `A`를 (1,2,3)으로 바꿀 수 있나요?"
      ]
    },
    {
      "cell_type": "code",
      "execution_count": null,
      "metadata": {
        "colab": {
          "base_uri": "https://localhost:8080/",
          "height": 148
        },
        "id": "N0r5ofRtLe_E",
        "outputId": "6904bc0f-7b5d-4517-e93e-c193af942c05"
      },
      "outputs": [
        {
          "ename": "ValueError",
          "evalue": "cannot reshape array of size 12 into shape (1,2,3)",
          "output_type": "error",
          "traceback": [
            "\u001b[0;31m---------------------------------------------------------------------------\u001b[0m",
            "\u001b[0;31mValueError\u001b[0m                                Traceback (most recent call last)",
            "\u001b[0;32m<ipython-input-47-e4b826d4387f>\u001b[0m in \u001b[0;36m<cell line: 0>\u001b[0;34m()\u001b[0m\n\u001b[0;32m----> 1\u001b[0;31m \u001b[0mA\u001b[0m\u001b[0;34m.\u001b[0m\u001b[0mreshape\u001b[0m\u001b[0;34m(\u001b[0m\u001b[0;36m1\u001b[0m\u001b[0;34m,\u001b[0m \u001b[0;36m2\u001b[0m\u001b[0;34m,\u001b[0m \u001b[0;36m3\u001b[0m\u001b[0;34m)\u001b[0m\u001b[0;34m\u001b[0m\u001b[0;34m\u001b[0m\u001b[0m\n\u001b[0m",
            "\u001b[0;31mValueError\u001b[0m: cannot reshape array of size 12 into shape (1,2,3)"
          ]
        }
      ],
      "source": [
        "A.reshape(1, 2, 3)"
      ]
    },
    {
      "cell_type": "markdown",
      "metadata": {
        "id": "jGdRxOGLQrl0"
      },
      "source": [
        "### 자주쓰는 기능 arange, linspace"
      ]
    },
    {
      "cell_type": "code",
      "execution_count": null,
      "metadata": {
        "colab": {
          "base_uri": "https://localhost:8080/"
        },
        "id": "-_TeWeoFWylR",
        "outputId": "722ea1d3-dbd3-4f17-e6a3-d86565e26baa"
      },
      "outputs": [
        {
          "name": "stdout",
          "output_type": "stream",
          "text": [
            "[0 1 2 3 4 5 6 7 8 9]\n",
            "[ 1  3  5  7  9 11 13 15 17 19]\n"
          ]
        }
      ],
      "source": [
        "# arange: range의 numpy 버전\n",
        "print(np.arange(0, 10))\n",
        "print(np.arange(1, 20, 2))"
      ]
    },
    {
      "cell_type": "code",
      "execution_count": null,
      "metadata": {
        "colab": {
          "base_uri": "https://localhost:8080/"
        },
        "id": "3I-fG6PKNeUl",
        "outputId": "08da13f7-a41c-4842-fb73-db734f530c72"
      },
      "outputs": [
        {
          "data": {
            "text/plain": [
              "array([1, 2, 3, 4, 5, 6, 7, 8, 9])"
            ]
          },
          "execution_count": 54,
          "metadata": {},
          "output_type": "execute_result"
        }
      ],
      "source": [
        "# x = np.array([1,2,3,4,5,6,7,8,9])\n",
        "# 와 동일한 결과를 np.arange()를써서 만들어보기\n",
        "x = np.arange(1,10)\n",
        "x"
      ]
    },
    {
      "cell_type": "code",
      "execution_count": null,
      "metadata": {
        "colab": {
          "base_uri": "https://localhost:8080/"
        },
        "id": "fxInecmiXqOg",
        "outputId": "942db51e-6361-4313-ec92-096c867a127e"
      },
      "outputs": [
        {
          "name": "stdout",
          "output_type": "stream",
          "text": [
            "[ 0.      1.1111  2.2222  3.3333  4.4444  5.5556  6.6667  7.7778  8.8889 10.    ]\n"
          ]
        }
      ],
      "source": [
        "# linspace(start, stop, num)\n",
        "# Return evenly spaced numbers over a specified interval.\n",
        "print(np.linspace(0,10,10))"
      ]
    },
    {
      "cell_type": "markdown",
      "metadata": {
        "id": "WJKAbvx23ERB"
      },
      "source": [
        "### 인덱싱과 슬라이싱\n",
        "\n",
        "- 파이썬 리스트에서 배웠던 인덱싱, 슬라이싱 기능이 그대로 적용됩니다."
      ]
    },
    {
      "cell_type": "code",
      "execution_count": null,
      "metadata": {
        "colab": {
          "base_uri": "https://localhost:8080/"
        },
        "id": "jJgHjuYI5anL",
        "outputId": "4810d118-b58f-4fe8-b3ba-7104624e22cc"
      },
      "outputs": [
        {
          "name": "stdout",
          "output_type": "stream",
          "text": [
            "2\n",
            "[1 2 3]\n"
          ]
        }
      ],
      "source": [
        "# 기본 인덱싱과 슬라이싱\n",
        "A = np.array([1,2,3,4,5,6,7,8,9,10])\n",
        "\n",
        "# 두번째 요소를 출력합니다.\n",
        "print(A[1])\n",
        "\n",
        "# [1,2,3]을 출력합니다.\n",
        "print(A[0:3])\n"
      ]
    },
    {
      "cell_type": "code",
      "execution_count": null,
      "metadata": {
        "colab": {
          "base_uri": "https://localhost:8080/"
        },
        "id": "Jx1ly5Fx5gT3",
        "outputId": "d41c3117-b987-443d-894b-57fff2d37b95"
      },
      "outputs": [
        {
          "data": {
            "text/plain": [
              "array([ 1,  4,  7, 10])"
            ]
          },
          "execution_count": 61,
          "metadata": {},
          "output_type": "execute_result"
        }
      ],
      "source": [
        "# 스트라이드\n",
        "A[0::3]\n"
      ]
    },
    {
      "cell_type": "code",
      "execution_count": null,
      "metadata": {
        "colab": {
          "base_uri": "https://localhost:8080/"
        },
        "id": "MLPT1HdE5gQe",
        "outputId": "3891348a-8c62-4601-d746-68ab66f6ed27"
      },
      "outputs": [
        {
          "data": {
            "text/plain": [
              "array([10,  9,  8,  7,  6,  5,  4,  3,  2,  1])"
            ]
          },
          "execution_count": 63,
          "metadata": {},
          "output_type": "execute_result"
        }
      ],
      "source": [
        "# 음수 스트라이드\n",
        "A[::-1]"
      ]
    },
    {
      "cell_type": "markdown",
      "metadata": {
        "id": "t94PBjlgO_xO"
      },
      "source": [
        "- 2차원 이상 어레이에 대해서 각 인덱스를 지정할 자리에 `start:end:stride`형식을 지정할 수 있습니다.\n",
        "\n",
        "- 다음 예는 2차원 어레이 `A`에서 1번 축 방향으로 늘어선 모든 행을 선택하고 2번 축 방향으로 늘어선 열은 하나씩 건너뛰면서 선택하는 예입니다."
      ]
    },
    {
      "cell_type": "code",
      "execution_count": null,
      "metadata": {
        "colab": {
          "base_uri": "https://localhost:8080/"
        },
        "id": "J-qdh8hQS9fA",
        "outputId": "0aad3c5c-e58b-4a04-d45e-8b7d75b010d4"
      },
      "outputs": [
        {
          "name": "stdout",
          "output_type": "stream",
          "text": [
            "[[ 0  1  2  3  4  5]\n",
            " [ 6  7  8  9 10 11]\n",
            " [12 13 14 15 16 17]\n",
            " [18 19 20 21 22 23]\n",
            " [24 25 26 27 28 29]]\n"
          ]
        },
        {
          "data": {
            "text/plain": [
              "np.int64(1)"
            ]
          },
          "execution_count": 68,
          "metadata": {},
          "output_type": "execute_result"
        }
      ],
      "source": [
        "# 2차원 인덱싱\n",
        "A = np.arange(30).reshape(5,6)\n",
        "print(A)\n",
        "# axis 0,   1\n",
        "A[     0,   1 ]"
      ]
    },
    {
      "cell_type": "code",
      "execution_count": null,
      "metadata": {
        "colab": {
          "base_uri": "https://localhost:8080/"
        },
        "id": "2dbblIzTJXa1",
        "outputId": "e7bcf18d-6893-497a-bc1f-9b976a47fc34"
      },
      "outputs": [
        {
          "data": {
            "text/plain": [
              "array([[ 0,  2,  4],\n",
              "       [ 6,  8, 10],\n",
              "       [12, 14, 16],\n",
              "       [18, 20, 22],\n",
              "       [24, 26, 28]])"
            ]
          },
          "execution_count": 73,
          "metadata": {},
          "output_type": "execute_result"
        }
      ],
      "source": [
        "# 각 인덱스 자리에 start:end:stride 표현 가능\n",
        "# A[0:2, 0:2]\n",
        "A[:,::2]"
      ]
    },
    {
      "cell_type": "markdown",
      "metadata": {
        "id": "JhiEuJIU3IVY"
      },
      "source": [
        "### 어레이 인덱싱"
      ]
    },
    {
      "cell_type": "markdown",
      "metadata": {
        "id": "siXMX8W4PpzB"
      },
      "source": [
        "- 어레이 각 축에 대한 인덱스를 어레이형태로 전달 할 수 있습니다."
      ]
    },
    {
      "cell_type": "code",
      "execution_count": null,
      "metadata": {
        "colab": {
          "base_uri": "https://localhost:8080/"
        },
        "id": "oYlTBymF6AlP",
        "outputId": "17b4126c-9862-42c1-e696-be679c84666b"
      },
      "outputs": [
        {
          "data": {
            "text/plain": [
              "array([[ 0,  1,  2,  3,  4,  5],\n",
              "       [ 6,  7,  8,  9, 10, 11],\n",
              "       [12, 13, 14, 15, 16, 17],\n",
              "       [18, 19, 20, 21, 22, 23],\n",
              "       [24, 25, 26, 27, 28, 29]])"
            ]
          },
          "execution_count": 89,
          "metadata": {},
          "output_type": "execute_result"
        }
      ],
      "source": [
        "A = np.arange(30).reshape(5,6)\n",
        "A"
      ]
    },
    {
      "cell_type": "markdown",
      "metadata": {
        "id": "5VSoALttP1Dz"
      },
      "source": [
        "- 다음 코드는 모든 행에 대해서 특정 열번호를 추출하는 예를 보여 줍니다."
      ]
    },
    {
      "cell_type": "code",
      "execution_count": null,
      "metadata": {
        "colab": {
          "base_uri": "https://localhost:8080/"
        },
        "id": "Wq-8KLim6IMA",
        "outputId": "2794876d-cfde-4144-e6da-2a41adff0eba"
      },
      "outputs": [
        {
          "data": {
            "text/plain": [
              "array([ 1,  8, 15, 19, 24])"
            ]
          },
          "execution_count": 90,
          "metadata": {},
          "output_type": "execute_result"
        }
      ],
      "source": [
        "# 모든행에 1,2,3,1,0번째 열 요소\n",
        "A[  [0,1,2,3,4]  , [1,2,3,1,0]  ]\n",
        "\n",
        "# 이렇게도 가능하다.\n",
        "A[ np.arange(5)  ,  [1,2,3,1,0] ]"
      ]
    },
    {
      "cell_type": "code",
      "execution_count": null,
      "metadata": {
        "colab": {
          "base_uri": "https://localhost:8080/"
        },
        "id": "Qvuq1eTZPpOX",
        "outputId": "b2a7d303-f9ce-4f6e-911e-92ecad6f24ae"
      },
      "outputs": [
        {
          "data": {
            "text/plain": [
              "array([[ 1,  2,  3,  1,  0],\n",
              "       [ 7,  8,  9,  7,  6],\n",
              "       [13, 14, 15, 13, 12],\n",
              "       [19, 20, 21, 19, 18],\n",
              "       [25, 26, 27, 25, 24]])"
            ]
          },
          "execution_count": 91,
          "metadata": {},
          "output_type": "execute_result"
        }
      ],
      "source": [
        "# [주의] A[ np.arange(5)  ,  [1,2,3,1,0] ] 와 다름!\n",
        "A[ : ,  [1,2,3,1,0] ]"
      ]
    },
    {
      "cell_type": "markdown",
      "metadata": {
        "id": "Dr2-x6HBce-J"
      },
      "source": [
        "####  [연습] 인덱싱과 슬라이싱\n",
        "\n",
        "- 주어진 numpy array에 대해서\n",
        "\n",
        "1. 첫 두행과 첫 두열로 이루어진 서브 어레이를 추출\n",
        "\n",
        "2. 마지막 두행과 마지막 두열로 이루어진 서브 어레이를 추출\n",
        "\n",
        "3. 모든 행, 첫 두열로 이루어진 서브 어레이 추출\n",
        "\n",
        "4. 세번째 열을 추출(열벡터로 유지되도록)\n",
        "\n",
        "5. 0행, 0열부터 행과 열을 하나씩 건너뛰면서 행,열을 선택"
      ]
    },
    {
      "cell_type": "code",
      "execution_count": null,
      "metadata": {
        "colab": {
          "base_uri": "https://localhost:8080/"
        },
        "id": "tWT4oMRWPXif",
        "outputId": "8ab9c57c-d735-4c69-9a49-9a8803c89053"
      },
      "outputs": [
        {
          "name": "stdout",
          "output_type": "stream",
          "text": [
            "[[ 0  1  2  3  4  5]\n",
            " [ 6  7  8  9 10 11]\n",
            " [12 13 14 15 16 17]\n",
            " [18 19 20 21 22 23]\n",
            " [24 25 26 27 28 29]]\n"
          ]
        },
        {
          "data": {
            "text/plain": [
              "array([[0, 1],\n",
              "       [6, 7]])"
            ]
          },
          "execution_count": 76,
          "metadata": {},
          "output_type": "execute_result"
        }
      ],
      "source": [
        "A = np.arange(30).reshape(5,6)\n",
        "print(A)\n",
        "\n",
        "# 1. 첫 두행과 첫 두열로 이루어진 서브 어레이를 추출\n",
        "A[:2,:2]\n"
      ]
    },
    {
      "cell_type": "code",
      "execution_count": null,
      "metadata": {
        "colab": {
          "base_uri": "https://localhost:8080/"
        },
        "id": "D5t3mW56dz42",
        "outputId": "f38ff029-7ce2-45ff-f57e-cc1b43938311"
      },
      "outputs": [
        {
          "name": "stdout",
          "output_type": "stream",
          "text": [
            "[[ 0  1  2  3  4  5]\n",
            " [ 6  7  8  9 10 11]\n",
            " [12 13 14 15 16 17]\n",
            " [18 19 20 21 22 23]\n",
            " [24 25 26 27 28 29]]\n"
          ]
        },
        {
          "data": {
            "text/plain": [
              "array([[22, 23],\n",
              "       [28, 29]])"
            ]
          },
          "execution_count": 77,
          "metadata": {},
          "output_type": "execute_result"
        }
      ],
      "source": [
        "A = np.arange(30).reshape(5,6)\n",
        "print(A)\n",
        "\n",
        "# 2. 마지막 두행과 마지막 두열로 이루어진 서브 어레이를 추출\n",
        "\n",
        "A[-2:, -2:]\n"
      ]
    },
    {
      "cell_type": "code",
      "execution_count": null,
      "metadata": {
        "colab": {
          "base_uri": "https://localhost:8080/"
        },
        "id": "LhqsxJnEdz2D",
        "outputId": "e38fdb28-7144-452d-87e4-86f1adc55cbd"
      },
      "outputs": [
        {
          "name": "stdout",
          "output_type": "stream",
          "text": [
            "[[ 0  1  2  3  4  5]\n",
            " [ 6  7  8  9 10 11]\n",
            " [12 13 14 15 16 17]\n",
            " [18 19 20 21 22 23]\n",
            " [24 25 26 27 28 29]]\n"
          ]
        },
        {
          "data": {
            "text/plain": [
              "array([[ 0,  1],\n",
              "       [ 6,  7],\n",
              "       [12, 13],\n",
              "       [18, 19],\n",
              "       [24, 25]])"
            ]
          },
          "execution_count": 78,
          "metadata": {},
          "output_type": "execute_result"
        }
      ],
      "source": [
        "A = np.arange(30).reshape(5,6)\n",
        "print(A)\n",
        "\n",
        "# 3. 모든 행, 첫 두열로 이루어진 서브 어레이 추출\n",
        "A[:, :2]\n",
        "\n"
      ]
    },
    {
      "cell_type": "code",
      "execution_count": null,
      "metadata": {
        "colab": {
          "base_uri": "https://localhost:8080/"
        },
        "id": "acNPjmFjOkO3",
        "outputId": "9511042d-6758-4a26-d9b7-41f668e8200e"
      },
      "outputs": [
        {
          "data": {
            "text/plain": [
              "0"
            ]
          },
          "execution_count": 83,
          "metadata": {},
          "output_type": "execute_result"
        }
      ],
      "source": [
        "np.arange(5)[3].ndim"
      ]
    },
    {
      "cell_type": "code",
      "execution_count": null,
      "metadata": {
        "colab": {
          "base_uri": "https://localhost:8080/"
        },
        "id": "wZhGodUqdzzM",
        "outputId": "3f6d2f37-328e-4e51-aa40-b9e7c676d2bd"
      },
      "outputs": [
        {
          "name": "stdout",
          "output_type": "stream",
          "text": [
            "[[ 0  1  2  3  4  5]\n",
            " [ 6  7  8  9 10 11]\n",
            " [12 13 14 15 16 17]\n",
            " [18 19 20 21 22 23]\n",
            " [24 25 26 27 28 29]]\n"
          ]
        },
        {
          "data": {
            "text/plain": [
              "array([[ 2,  1],\n",
              "       [ 8,  7],\n",
              "       [14, 13],\n",
              "       [20, 19],\n",
              "       [26, 25]])"
            ]
          },
          "execution_count": 87,
          "metadata": {},
          "output_type": "execute_result"
        }
      ],
      "source": [
        "A = np.arange(30).reshape(5,6)\n",
        "print(A)\n",
        "\n",
        "# 4. 세번째 열을 추출(열벡터로 유지되도록)\n",
        "A[:, [2,1]]\n"
      ]
    },
    {
      "cell_type": "code",
      "execution_count": null,
      "metadata": {
        "colab": {
          "base_uri": "https://localhost:8080/"
        },
        "id": "AtLtOq1zdzwK",
        "outputId": "95160cf2-9ab8-4c50-a826-9ba1fb4c5e66"
      },
      "outputs": [
        {
          "name": "stdout",
          "output_type": "stream",
          "text": [
            "[[ 0  1  2  3  4  5]\n",
            " [ 6  7  8  9 10 11]\n",
            " [12 13 14 15 16 17]\n",
            " [18 19 20 21 22 23]\n",
            " [24 25 26 27 28 29]]\n"
          ]
        },
        {
          "data": {
            "text/plain": [
              "array([[ 0,  2,  4],\n",
              "       [12, 14, 16],\n",
              "       [24, 26, 28]])"
            ]
          },
          "execution_count": 88,
          "metadata": {},
          "output_type": "execute_result"
        }
      ],
      "source": [
        "A = np.arange(30).reshape(5,6)\n",
        "print(A)\n",
        "\n",
        "# 5. 0행, 0열부터 행과 열을 하나씩 건너뛰면서 행,열을 선택\n",
        "A[::2, ::2]"
      ]
    },
    {
      "cell_type": "markdown",
      "metadata": {
        "id": "nhZSk_CgLimu"
      },
      "source": [
        "####  [연습] 컨볼루션Convolution\n"
      ]
    },
    {
      "cell_type": "markdown",
      "metadata": {
        "id": "NakZ7usl33hj"
      },
      "source": [
        "![image.png](data:image/png;base64,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)"
      ]
    },
    {
      "cell_type": "code",
      "execution_count": null,
      "metadata": {
        "id": "MzadT4InLt7S"
      },
      "outputs": [],
      "source": [
        "import numpy as np\n",
        "\n",
        "def generate_random_array(min_length=10, max_length=20, min_value=0, max_value=10):\n",
        "    length = np.random.randint(min_length, max_length + 1)\n",
        "    return np.random.randint(min_value, max_value + 1, size=length)\n",
        "\n",
        "def generate_random_kernel(min_length=3, max_length=7, min_value=0, max_value=5):\n",
        "    length = np.random.randint(min_length, max_length + 1)\n",
        "    return np.random.randint(min_value, max_value + 1, size=length)\n",
        "\n",
        "def check_implementation(arr, kernel):\n",
        "    numpy_result = np.convolve(arr, kernel[::-1], mode='valid')\n",
        "    user_result = user_convolution(arr, kernel)\n",
        "\n",
        "    if np.array_equal(numpy_result, user_result):\n",
        "        print(\"성공! 구현이 NumPy의 결과와 일치합니다.\")\n",
        "    else:\n",
        "        print(\"실패! 구현이 NumPy의 결과와 일치하지 않습니다.\")\n",
        "\n",
        "    print(\"\\nNumPy 결과:\", numpy_result)\n",
        "    print(\"사용자 결과:\", user_result)"
      ]
    },
    {
      "cell_type": "code",
      "execution_count": null,
      "metadata": {
        "colab": {
          "base_uri": "https://localhost:8080/"
        },
        "id": "XNaF7agdLyXu",
        "outputId": "0e3bc00f-779e-4c61-cad8-e0b9e8d6eb19"
      },
      "outputs": [
        {
          "name": "stdout",
          "output_type": "stream",
          "text": [
            "입력 배열: [4 5 7 1 2 9 5 8 4 1 3 9 2 6 0 5 8 7]\n",
            "컨볼루션 커널: [3 3 3 4]\n",
            "\n",
            "성공! 구현이 NumPy의 결과와 일치합니다.\n",
            "\n",
            "NumPy 결과: [52 47 66 56 80 82 55 51 60 47 66 51 44 65 67]\n",
            "사용자 결과: [52 47 66 56 80 82 55 51 60 47 66 51 44 65 67]\n"
          ]
        }
      ],
      "source": [
        "def user_convolution(arr, kernel):\n",
        "    result = []\n",
        "\n",
        "    ############################################################################\n",
        "    # 여기 arr, kernel을 컨볼루션하여 result에 담아 리턴하는 함수를 완성하세요.\n",
        "    # for 문을 이용하고 arr에서 kernel 사이즈 만큼 숫자를 슬라이싱해서\n",
        "    # kernel과 곱하고 np.sum()으로 모두 더해 나온 결과를 result에 append 하세요.\n",
        "    for i in range( len(arr) - len(kernel) + 1 ):\n",
        "        result.append(  np.sum( arr[i:i+len(kernel)] * kernel )  )\n",
        "    ############################################################################\n",
        "\n",
        "    return np.array(result)\n",
        "\n",
        "\n",
        "###########################################################\n",
        "# TEST CODE\n",
        "###########################################################\n",
        "arr = generate_random_array()\n",
        "kernel = generate_random_kernel()\n",
        "\n",
        "print(f\"입력 배열: {arr}\")\n",
        "print(f\"컨볼루션 커널: {kernel}\")\n",
        "print()\n",
        "\n",
        "check_implementation(arr, kernel)\n",
        "###########################################################"
      ]
    },
    {
      "cell_type": "markdown",
      "metadata": {
        "id": "VlFOIRyI3KBO"
      },
      "source": [
        "### 불린 인덱싱\n",
        "\n",
        "- 어레이 인덱싱과 같은 맥락으로 요소의 위치에 `True`, `False`를 지정하여 `True`에 해당되는 요소만 지정할 수 있습니다."
      ]
    },
    {
      "cell_type": "code",
      "execution_count": null,
      "metadata": {
        "colab": {
          "base_uri": "https://localhost:8080/"
        },
        "id": "-dOgT4l72s9W",
        "outputId": "c37ed142-4a52-4f6d-bc21-3f0c2228f507"
      },
      "outputs": [
        {
          "data": {
            "text/plain": [
              "array([[ 0,  1,  2,  3,  4,  5],\n",
              "       [ 6,  7,  8,  9, 10, 11],\n",
              "       [12, 13, 14, 15, 16, 17],\n",
              "       [18, 19, 20, 21, 22, 23],\n",
              "       [24, 25, 26, 27, 28, 29]])"
            ]
          },
          "execution_count": 101,
          "metadata": {},
          "output_type": "execute_result"
        }
      ],
      "source": [
        "A = np.arange(30).reshape(5,6)\n",
        "A"
      ]
    },
    {
      "cell_type": "code",
      "execution_count": null,
      "metadata": {
        "colab": {
          "base_uri": "https://localhost:8080/"
        },
        "id": "bXyqIrTK6OLY",
        "outputId": "3f3fdf96-c2a5-4f27-ade9-060bb8028f10"
      },
      "outputs": [
        {
          "data": {
            "text/plain": [
              "array([[False, False, False, False, False, False],\n",
              "       [False, False, False, False, False, False],\n",
              "       [False, False, False, False, False, False],\n",
              "       [False, False, False,  True,  True,  True],\n",
              "       [ True,  True,  True,  True,  True,  True]])"
            ]
          },
          "execution_count": 102,
          "metadata": {},
          "output_type": "execute_result"
        }
      ],
      "source": [
        "# 어레이에 조건을 걸면 모든 요소에 대해서 조건 결과를 돌려줍니다.\n",
        "A > 20"
      ]
    },
    {
      "cell_type": "code",
      "execution_count": null,
      "metadata": {
        "colab": {
          "base_uri": "https://localhost:8080/"
        },
        "id": "V1vpav_x6Qea",
        "outputId": "8b56d050-6c64-4e8b-927d-57e246be5194"
      },
      "outputs": [
        {
          "data": {
            "text/plain": [
              "array([21, 22, 23, 24, 25, 26, 27, 28, 29])"
            ]
          },
          "execution_count": 103,
          "metadata": {},
          "output_type": "execute_result"
        }
      ],
      "source": [
        "# 조건으로 인덱싱\n",
        "A[ A>20 ]"
      ]
    },
    {
      "cell_type": "markdown",
      "metadata": {
        "id": "pVlxKYJeQRSw"
      },
      "source": [
        "### 자주쓰는 기능 random.rand, randn, randint, choice"
      ]
    },
    {
      "cell_type": "code",
      "execution_count": null,
      "metadata": {
        "colab": {
          "base_uri": "https://localhost:8080/",
          "height": 308
        },
        "id": "vkeTNj8OYRGU",
        "outputId": "9be7b947-fea0-46ae-d63d-2db7b935ab40"
      },
      "outputs": [
        {
          "data": {
            "image/png": "[encoded data removed]",
            "text/plain": [
              "<Figure size 1000x300 with 2 Axes>"
            ]
          },
          "metadata": {},
          "output_type": "display_data"
        }
      ],
      "source": [
        "fig, ax = plt.subplots(figsize=(10,3), nrows=1, ncols=2, dpi=100)\n",
        "\n",
        "# rand 로 샘플링\n",
        "x = np.random.rand(10000)\n",
        "ax[0].hist(x, bins=20, color='C7', edgecolor='k')\n",
        "ax[0].set_title('rand()')\n",
        "\n",
        "# randn으로 샘플링\n",
        "x = np.random.randn(10000)\n",
        "ax[1].hist(x, bins=20, color='C7', edgecolor='k')\n",
        "ax[1].set_title('randn()')\n",
        "\n",
        "plt.show()"
      ]
    },
    {
      "cell_type": "code",
      "execution_count": null,
      "metadata": {
        "colab": {
          "base_uri": "https://localhost:8080/"
        },
        "id": "wOXqTz3HapEo",
        "outputId": "3f83feec-d61e-4a1a-ff2a-55615820b8f2"
      },
      "outputs": [
        {
          "data": {
            "text/plain": [
              "array([5, 4, 2, 8, 6])"
            ]
          },
          "execution_count": 112,
          "metadata": {},
          "output_type": "execute_result"
        }
      ],
      "source": [
        "# randint\n",
        "np.random.randint(0,10,5)"
      ]
    },
    {
      "cell_type": "code",
      "execution_count": null,
      "metadata": {
        "colab": {
          "base_uri": "https://localhost:8080/"
        },
        "id": "7WK8J9tqavXx",
        "outputId": "7765e567-cdbf-43ac-e0e6-2e4ec95c0795"
      },
      "outputs": [
        {
          "data": {
            "text/plain": [
              "array([8, 2, 8])"
            ]
          },
          "execution_count": 114,
          "metadata": {},
          "output_type": "execute_result"
        }
      ],
      "source": [
        "# choice\n",
        "#                숫자의 리스트              뽑을 개수\n",
        "np.random.choice(np.random.randint(0,10,5), 3)"
      ]
    },
    {
      "cell_type": "code",
      "execution_count": null,
      "metadata": {
        "colab": {
          "base_uri": "https://localhost:8080/"
        },
        "id": "tmK3vZ0LSJAx",
        "outputId": "6da9b2b6-d578-46a7-9842-636ccef3c068"
      },
      "outputs": [
        {
          "data": {
            "text/plain": [
              "array([3, 4, 3])"
            ]
          },
          "execution_count": 120,
          "metadata": {},
          "output_type": "execute_result"
        }
      ],
      "source": [
        "# 첫 인자는 그냥 최대 숫자를 지정할 수 있습니다.\n",
        "np.random.choice(10, 3)"
      ]
    },
    {
      "cell_type": "code",
      "execution_count": null,
      "metadata": {
        "colab": {
          "base_uri": "https://localhost:8080/"
        },
        "id": "UftXBNOuSNDe",
        "outputId": "0f40345a-a5d8-48d9-e581-782430dff8b0"
      },
      "outputs": [
        {
          "data": {
            "text/plain": [
              "array([9, 6, 8])"
            ]
          },
          "execution_count": 124,
          "metadata": {},
          "output_type": "execute_result"
        }
      ],
      "source": [
        "# 같은 숫자는 뽑히지 않게 합니다.\n",
        "np.random.choice(10, 3, replace=False)"
      ]
    },
    {
      "cell_type": "markdown",
      "metadata": {
        "id": "i4kaldQD3NqF"
      },
      "source": [
        "### 전치\n",
        "\n",
        "- 딥러닝 코딩에서는 numpy 어레이의 축 순서를 바꾸는 작업이 빈번하게 수행됩니다.\n",
        "\n",
        "- 이런 작업을 전치라고 하는데 가장 간단한 2차원 어레이에 대해서 예를 보도록 하겠습니다."
      ]
    },
    {
      "cell_type": "code",
      "execution_count": null,
      "metadata": {
        "colab": {
          "base_uri": "https://localhost:8080/"
        },
        "id": "8_lb7xRtco_1",
        "outputId": "d5d08bc9-2041-4f2e-ecbc-76d50538551f"
      },
      "outputs": [
        {
          "data": {
            "text/plain": [
              "array([[1, 2, 3],\n",
              "       [4, 5, 6]])"
            ]
          },
          "execution_count": 125,
          "metadata": {},
          "output_type": "execute_result"
        }
      ],
      "source": [
        "# 2행, 3열의 어레이에 대해서\n",
        "A = (np.arange(6)+1).reshape(2,3)\n",
        "A"
      ]
    },
    {
      "cell_type": "code",
      "execution_count": null,
      "metadata": {
        "colab": {
          "base_uri": "https://localhost:8080/"
        },
        "id": "vsIO8q4Zcw7G",
        "outputId": "600feb82-b70f-46ae-e576-15059ec3e662"
      },
      "outputs": [
        {
          "data": {
            "text/plain": [
              "array([[1, 4],\n",
              "       [2, 5],\n",
              "       [3, 6]])"
            ]
          },
          "execution_count": 128,
          "metadata": {},
          "output_type": "execute_result"
        }
      ],
      "source": [
        "# 행을 열로 열을 행으로 자리 바꿈합니다.\n",
        "# 이는 0번 축을 1번 축자리로 1번 축을 0번 축 자리로 보내는 것을 의미합니다.\n",
        "# A.T\n",
        "A.transpose(1,0)"
      ]
    },
    {
      "cell_type": "markdown",
      "metadata": {
        "id": "HrkrXdIMdBrW"
      },
      "source": [
        "- 이미지를 다루는 딥러닝 코드는 4차원 어레이를 주로 사용하고 텍스트를 다루는 딥러닝 코드는 3차원 어레이를 주로 사용하므로 조금 더 복잡한 3차원 어레이에 대해서 전치를 실습해봅시다."
      ]
    },
    {
      "cell_type": "code",
      "execution_count": null,
      "metadata": {
        "colab": {
          "base_uri": "https://localhost:8080/"
        },
        "id": "UimEed1P6ivX",
        "outputId": "221f4acb-bce9-422e-9058-ed69afa2497a"
      },
      "outputs": [
        {
          "data": {
            "text/plain": [
              "array([[[ 1,  2,  3],\n",
              "        [ 4,  5,  6],\n",
              "        [ 7,  8,  9]],\n",
              "\n",
              "       [[10, 11, 12],\n",
              "        [13, 14, 15],\n",
              "        [16, 17, 18]]])"
            ]
          },
          "execution_count": 129,
          "metadata": {},
          "output_type": "execute_result"
        }
      ],
      "source": [
        "A = (np.arange(18)+1).reshape(2,3,3)\n",
        "A"
      ]
    },
    {
      "cell_type": "code",
      "execution_count": null,
      "metadata": {
        "colab": {
          "base_uri": "https://localhost:8080/"
        },
        "id": "lVPLiuYP6r0q",
        "outputId": "362d6613-e180-402e-abd6-94fb6e0ec2d0"
      },
      "outputs": [
        {
          "data": {
            "text/plain": [
              "array([[[ 1,  4,  7],\n",
              "        [10, 13, 16]],\n",
              "\n",
              "       [[ 2,  5,  8],\n",
              "        [11, 14, 17]],\n",
              "\n",
              "       [[ 3,  6,  9],\n",
              "        [12, 15, 18]]])"
            ]
          },
          "execution_count": 130,
          "metadata": {},
          "output_type": "execute_result"
        }
      ],
      "source": [
        "# tr(2,0,1)\n",
        "A.transpose(2,0,1)"
      ]
    },
    {
      "cell_type": "code",
      "execution_count": null,
      "metadata": {
        "colab": {
          "base_uri": "https://localhost:8080/"
        },
        "id": "VyyAtNF26rtA",
        "outputId": "7aa05db6-488b-493e-bbca-b909a9da862a"
      },
      "outputs": [
        {
          "data": {
            "text/plain": [
              "array([[[ 1, 10],\n",
              "        [ 2, 11],\n",
              "        [ 3, 12]],\n",
              "\n",
              "       [[ 4, 13],\n",
              "        [ 5, 14],\n",
              "        [ 6, 15]],\n",
              "\n",
              "       [[ 7, 16],\n",
              "        [ 8, 17],\n",
              "        [ 9, 18]]])"
            ]
          },
          "execution_count": 132,
          "metadata": {},
          "output_type": "execute_result"
        }
      ],
      "source": [
        "#################################################\n",
        "# [Lab] A를 아래 모양으로 바꾸려면 어떻게 트랜스포즈 시켜야 하나요?\n",
        "#\n",
        "# array([[[ 1, 10],\n",
        "#         [ 2, 11],\n",
        "#         [ 3, 12]],\n",
        "\n",
        "#        [[ 4, 13],\n",
        "#         [ 5, 14],\n",
        "#         [ 6, 15]],\n",
        "\n",
        "#        [[ 7, 16],\n",
        "#         [ 8, 17],\n",
        "#         [ 9, 18]]])\n",
        "\n",
        "#################################################\n",
        "\n",
        "A.transpose( 1, 2, 0)\n"
      ]
    },
    {
      "cell_type": "markdown",
      "metadata": {
        "id": "CtdMr80c8_Rs"
      },
      "source": [
        "#### [연습] 이미지에 적용한 전치\n",
        "\n",
        "- 조금 더 도전적인 과제로 이미지에 대한 전치를 알아보도록 하겠습니다.\n",
        "\n",
        "- 간단하게 이미지 데이터를 로딩하도록 하겠습니다."
      ]
    },
    {
      "cell_type": "code",
      "execution_count": null,
      "metadata": {
        "id": "7yc0UiAB8-ui"
      },
      "outputs": [],
      "source": [
        "from sklearn.datasets import load_digits\n",
        "digits = load_digits()"
      ]
    },
    {
      "cell_type": "markdown",
      "metadata": {
        "id": "ifddT5RXdmCB"
      },
      "source": [
        "- 이 시점에서  `digits.images`에는 8x8 크기를 가지는 흑백 숫자 이미지 밝기 값이 저장되어 있습니다.\n",
        "\n",
        "- 크기를 확인해보겠습니다."
      ]
    },
    {
      "cell_type": "code",
      "execution_count": null,
      "metadata": {
        "colab": {
          "base_uri": "https://localhost:8080/"
        },
        "id": "Qv6E23PUdy23",
        "outputId": "b95a6b8f-117c-4994-96eb-6777bbb07708"
      },
      "outputs": [
        {
          "data": {
            "text/plain": [
              "(1797, 8, 8)"
            ]
          },
          "execution_count": 135,
          "metadata": {},
          "output_type": "execute_result"
        }
      ],
      "source": [
        "digits.images.shape"
      ]
    },
    {
      "cell_type": "markdown",
      "metadata": {
        "id": "Q_OHdovqd2e5"
      },
      "source": [
        "- `digits.images`의 모양을 보고 이 3차원 어레이에 어떤식으로 이미지 데이터가 저장되어 있는지 상상이 되어야 합니다.\n",
        "\n",
        "- 1797개 이미지가 있고 각 이미지는 (8,8) 크기를 가진다는 의미입니다.\n",
        "\n",
        "- 첫번째 이미지를 확인해보겠습니다."
      ]
    },
    {
      "cell_type": "code",
      "execution_count": null,
      "metadata": {
        "colab": {
          "base_uri": "https://localhost:8080/"
        },
        "id": "mZmEbFSneGLr",
        "outputId": "e0c1df51-6250-42b2-9f85-d87a7b5e5a44"
      },
      "outputs": [
        {
          "data": {
            "text/plain": [
              "array([[ 0.,  0.,  5., 13.,  9.,  1.,  0.,  0.],\n",
              "       [ 0.,  0., 13., 15., 10., 15.,  5.,  0.],\n",
              "       [ 0.,  3., 15.,  2.,  0., 11.,  8.,  0.],\n",
              "       [ 0.,  4., 12.,  0.,  0.,  8.,  8.,  0.],\n",
              "       [ 0.,  5.,  8.,  0.,  0.,  9.,  8.,  0.],\n",
              "       [ 0.,  4., 11.,  0.,  1., 12.,  7.,  0.],\n",
              "       [ 0.,  2., 14.,  5., 10., 12.,  0.,  0.],\n",
              "       [ 0.,  0.,  6., 13., 10.,  0.,  0.,  0.]])"
            ]
          },
          "execution_count": 136,
          "metadata": {},
          "output_type": "execute_result"
        }
      ],
      "source": [
        "digits.images[0]"
      ]
    },
    {
      "cell_type": "markdown",
      "metadata": {
        "id": "boY4wPBQeQCo"
      },
      "source": [
        "- 숫자가 (8,8)형태로 저장 되어있고 이를 이미지로 표현하면 다음과 같습니다.\n",
        "\n",
        "- **그림을 그리는 코드는 다시 배우게 되니 지금은 그냥 셀을 실행하기만 하면 됩니다.**"
      ]
    },
    {
      "cell_type": "code",
      "execution_count": null,
      "metadata": {
        "colab": {
          "base_uri": "https://localhost:8080/",
          "height": 430
        },
        "id": "9jxqn8x_ePpy",
        "outputId": "877ccf4c-370c-44ea-f310-5e08df4ddf01"
      },
      "outputs": [
        {
          "data": {
            "image/png": "[encoded data removed]",
            "text/plain": [
              "<Figure size 640x480 with 1 Axes>"
            ]
          },
          "metadata": {},
          "output_type": "display_data"
        }
      ],
      "source": [
        "plt.imshow(digits.images[0], cmap='binary')\n",
        "plt.show()\n"
      ]
    },
    {
      "cell_type": "markdown",
      "metadata": {
        "id": "S9EEccSjes4K"
      },
      "source": [
        "- 이제 이미지 샘플을 9장 가지고 오도록 하겠습니다.\n",
        "\n"
      ]
    },
    {
      "cell_type": "code",
      "execution_count": null,
      "metadata": {
        "colab": {
          "base_uri": "https://localhost:8080/"
        },
        "id": "saaRK0i0e0RS",
        "outputId": "21abfc4e-c8db-4750-b14a-049dae84889e"
      },
      "outputs": [
        {
          "name": "stdout",
          "output_type": "stream",
          "text": [
            "(9, 8, 8)\n"
          ]
        }
      ],
      "source": [
        "mini_batch = digits.images[0:9]\n",
        "print(mini_batch.shape)\n"
      ]
    },
    {
      "cell_type": "markdown",
      "metadata": {
        "id": "W9-RB-ITfE1z"
      },
      "source": [
        "- 이 9장의 이미지를 한장의 그림으로 표시하고 싶습니다."
      ]
    },
    {
      "cell_type": "markdown",
      "metadata": {
        "id": "lVFaTCuCe2Kp"
      },
      "source": [
        "\n",
        "\n",
        "![image.png](data:image/png;base64,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)\n",
        "\n"
      ]
    },
    {
      "cell_type": "markdown",
      "metadata": {
        "id": "rZrFPufCfHeh"
      },
      "source": [
        "- 위 그림처럼 9장 이미지를 가로로 길게 이어 붙여서 이미지 한장으로 표시할 수 있습니다.\n",
        "\n",
        "- 어레이 입장에서 이야기하면 (9,8,8)이 (8,72)인 어레이로 바뀌는 것입니다.\n",
        "\n",
        "- (9,8,8)을 `transpose()`, `reshape()`을 통해서 (8,72)로 바꾸는 코드를 완성해보세요."
      ]
    },
    {
      "cell_type": "code",
      "execution_count": null,
      "metadata": {
        "colab": {
          "base_uri": "https://localhost:8080/",
          "height": 117
        },
        "id": "9HHl666k9Lui",
        "outputId": "3092f310-9127-4855-c39b-a6bfc089f9b7"
      },
      "outputs": [
        {
          "data": {
            "image/png": "[encoded data removed]",
            "text/plain": [
              "<Figure size 640x480 with 1 Axes>"
            ]
          },
          "metadata": {},
          "output_type": "display_data"
        }
      ],
      "source": [
        "########################################\n",
        "# 여기 코드를 작성하세요\n",
        "# mini_batch (9,8,8)를 transpose, reshape -> (8,72)\n",
        "img_long = mini_batch.transpose(1,0,2).reshape(8,-1)\n",
        "########################################\n",
        "\n",
        "\n",
        "fig = plt.figure()\n",
        "ax = plt.axes()\n",
        "ax.imshow(img_long, cmap='binary')\n",
        "plt.show()"
      ]
    },
    {
      "cell_type": "markdown",
      "metadata": {
        "id": "u2ayLgVk4o6E"
      },
      "source": [
        "- 잘 이해가 안갈 수 있으므로 다시 좀 더 간단한 어레이를 가지고 실험해봅시다!"
      ]
    },
    {
      "cell_type": "code",
      "execution_count": null,
      "metadata": {
        "colab": {
          "base_uri": "https://localhost:8080/"
        },
        "id": "ET2w5iz64px4",
        "outputId": "8372bb8e-17aa-4e3e-addf-157aa0091bcd"
      },
      "outputs": [
        {
          "data": {
            "text/plain": [
              "array([[[ 1,  2,  3],\n",
              "        [ 4,  5,  6],\n",
              "        [ 7,  8,  9]],\n",
              "\n",
              "       [[10, 11, 12],\n",
              "        [13, 14, 15],\n",
              "        [16, 17, 18]],\n",
              "\n",
              "       [[19, 20, 21],\n",
              "        [22, 23, 24],\n",
              "        [25, 26, 27]]])"
            ]
          },
          "execution_count": 145,
          "metadata": {},
          "output_type": "execute_result"
        }
      ],
      "source": [
        "I = np.arange(1, 28).reshape(3,3,3)\n",
        "I"
      ]
    },
    {
      "cell_type": "code",
      "execution_count": null,
      "metadata": {
        "colab": {
          "base_uri": "https://localhost:8080/"
        },
        "id": "5-0JxGwA4pvI",
        "outputId": "54ed37de-4e77-461f-bdae-24eaad0dc99f"
      },
      "outputs": [
        {
          "data": {
            "text/plain": [
              "array([[ 1,  2,  3,  4,  5,  6,  7,  8,  9],\n",
              "       [10, 11, 12, 13, 14, 15, 16, 17, 18],\n",
              "       [19, 20, 21, 22, 23, 24, 25, 26, 27]])"
            ]
          },
          "execution_count": 146,
          "metadata": {},
          "output_type": "execute_result"
        }
      ],
      "source": [
        "I.reshape(3,9)"
      ]
    },
    {
      "cell_type": "code",
      "execution_count": null,
      "metadata": {
        "colab": {
          "base_uri": "https://localhost:8080/"
        },
        "id": "ivR8mocJ4psk",
        "outputId": "d9e2c5a1-a637-481b-e391-c86535c1f5b4"
      },
      "outputs": [
        {
          "data": {
            "text/plain": [
              "array([[[ 1,  2,  3],\n",
              "        [10, 11, 12],\n",
              "        [19, 20, 21]],\n",
              "\n",
              "       [[ 4,  5,  6],\n",
              "        [13, 14, 15],\n",
              "        [22, 23, 24]],\n",
              "\n",
              "       [[ 7,  8,  9],\n",
              "        [16, 17, 18],\n",
              "        [25, 26, 27]]])"
            ]
          },
          "execution_count": 147,
          "metadata": {},
          "output_type": "execute_result"
        }
      ],
      "source": [
        "I.transpose(1,0,2)"
      ]
    },
    {
      "cell_type": "code",
      "execution_count": null,
      "metadata": {
        "colab": {
          "base_uri": "https://localhost:8080/"
        },
        "id": "nA2C76vd0fSH",
        "outputId": "9b9aeef9-c840-44f8-8b79-e995b19f455a"
      },
      "outputs": [
        {
          "data": {
            "text/plain": [
              "array([[ 1,  2,  3, 10, 11, 12, 19, 20, 21],\n",
              "       [ 4,  5,  6, 13, 14, 15, 22, 23, 24],\n",
              "       [ 7,  8,  9, 16, 17, 18, 25, 26, 27]])"
            ]
          },
          "execution_count": 148,
          "metadata": {},
          "output_type": "execute_result"
        }
      ],
      "source": [
        "I.transpose(1,0,2).reshape(3,9)"
      ]
    },
    {
      "cell_type": "markdown",
      "metadata": {
        "id": "OslUBdvtQc1g"
      },
      "source": [
        "### 자주쓰는 기능 max, argmax\n",
        "\n"
      ]
    },
    {
      "cell_type": "code",
      "execution_count": null,
      "metadata": {
        "colab": {
          "base_uri": "https://localhost:8080/"
        },
        "id": "AHHGVhi0tyzD",
        "outputId": "2f736e1a-75fa-41b5-c15d-17a47b4f9d40"
      },
      "outputs": [
        {
          "name": "stdout",
          "output_type": "stream",
          "text": [
            "[0.493  0.1411 0.5967 0.5622 0.1989 0.9745 0.6353 0.3434 0.0867 0.2403]\n",
            "0.9744793605434829\n",
            "5\n"
          ]
        }
      ],
      "source": [
        "# 1차원 어레이에 대해서\n",
        "x = np.random.rand(10)\n",
        "print(x)\n",
        "\n",
        "# max는 제일 큰 값을 찾아 되돌립니다.\n",
        "print(np.max(x))\n",
        "\n",
        "# argmax는 제일 큰 값에 인덱스를 되돌립니다.\n",
        "print(np.argmax(x))"
      ]
    },
    {
      "cell_type": "code",
      "execution_count": null,
      "metadata": {
        "colab": {
          "base_uri": "https://localhost:8080/"
        },
        "id": "kqxgXEwFFp-V",
        "outputId": "ccdf2e8e-f8a8-4c67-8a4a-c2b7610d8497"
      },
      "outputs": [
        {
          "name": "stdout",
          "output_type": "stream",
          "text": [
            "[[0.6408 0.1363 0.4022 0.6754 0.327 ]\n",
            " [0.4304 0.0317 0.436  0.8795 0.4668]]\n",
            "0.8794646208485905\n",
            "8\n",
            "(np.int64(1), np.int64(3))\n",
            "\n",
            " for axis=0\n",
            "[0.6408 0.1363 0.436  0.8795 0.4668]\n",
            "[0 0 1 1 1]\n",
            "\n",
            " for axis=1\n",
            "[0.6754 0.8795]\n",
            "[3 3]\n"
          ]
        }
      ],
      "source": [
        "# 2차원 어레이에 대해서\n",
        "x = np.random.rand(10).reshape(2,5)\n",
        "print(x)\n",
        "\n",
        "# max\n",
        "print(np.max(x))\n",
        "\n",
        "\n",
        "# argmax\n",
        "# 2차원 어레이에 대해서 찾아준 인덱스는\n",
        "# 1차원 어레이에 대한 인덱스입니다.\n",
        "print(np.argmax(x))\n",
        "\n",
        "# 이 인덱스를 (2,5)에 맞게 바꿉니다.\n",
        "print( np.unravel_index( np.argmax(x), (2,5)  ) )\n",
        "\n",
        "\n",
        "# 각 축방향을 지정해서 수행\n",
        "print('\\n for axis=0')\n",
        "print(np.max(x, axis=0))\n",
        "print(np.argmax(x, axis=0))\n",
        "\n",
        "\n",
        "# 각 축방향을 지정해서 수행\n",
        "print('\\n for axis=1')\n",
        "print(np.max(x, axis=1))\n",
        "print(np.argmax(x, axis=1))\n"
      ]
    },
    {
      "cell_type": "markdown",
      "metadata": {
        "id": "Caou712v3P8d"
      },
      "source": [
        "### 브로드캐스팅\n",
        "\n",
        "- 앞서 어레이에 대한 연산은 요소별로 적용된다고 이야기 했습니다. 그렇기 때문에 기본적으로 요소 개수가 같아야 연산이 수행됩니다.\n",
        "\n",
        "- 하지만 정해진 룰을 따라 두 어레이의 모양을 맞출 수 있으면 자동으로 모양이 확장되면서 연산이 일어나게 되는데 이런 연산을 브로드캐스팅boradcasting 이라 합니다.\n",
        "\n",
        "- 브로드캐스팅이 일어나는 순서는 다음과 같습니다.\n",
        "    - 두 어레이의 차원이 다르다면 작은 차원을 확장해서 큰차원에 맞추는 차원 맞추기가 일어납니다.\n",
        "    - 두 어레이의 차원이 맞춰지면 두 어레이의 모양을 같게 하기 위해 축 크기가 1인 차원을 복사 확장해서 서로 모양을 맞춥니다.\n",
        "\n",
        "- 구체적인 예로 알아보겠습니다.\n",
        "\n",
        "- 가장 간단한 (3,)와 ()인 상수를 곱하는 예입니다."
      ]
    },
    {
      "cell_type": "code",
      "execution_count": null,
      "metadata": {
        "colab": {
          "base_uri": "https://localhost:8080/"
        },
        "id": "abn7xG-L6_6T",
        "outputId": "caaddf02-a1e7-40f6-cc8a-aba29f239986"
      },
      "outputs": [
        {
          "data": {
            "text/plain": [
              "array([2, 4, 6])"
            ]
          },
          "execution_count": 85,
          "metadata": {},
          "output_type": "execute_result"
        }
      ],
      "source": [
        "A = np.array([1,2,3])\n",
        "\n"
      ]
    },
    {
      "cell_type": "markdown",
      "metadata": {
        "id": "f8tD2MMKi_BW"
      },
      "source": [
        "- (3,)와 ()를 곱하려고 차원 맞추기가 일어납니다. ()이 (1,)이 됩니다.\n",
        "\n",
        "- (3,)에 모양을 맞추기 위해 (1,)가 (3,)로 늘어납니다. 이때 늘어나는 요소는 복사됩니다."
      ]
    },
    {
      "cell_type": "code",
      "execution_count": null,
      "metadata": {
        "colab": {
          "base_uri": "https://localhost:8080/"
        },
        "id": "ejceEk7n6_3o",
        "outputId": "6f41e77a-8f9a-4482-9a65-bbf907d65d26"
      },
      "outputs": [
        {
          "name": "stdout",
          "output_type": "stream",
          "text": [
            "[[8 8 6]\n",
            " [2 8 7]\n",
            " [2 1 5]\n",
            " [4 4 5]]\n",
            "[7 3 6]\n"
          ]
        }
      ],
      "source": [
        "np.random.seed(2)\n",
        "\n",
        "m, n = 4, 3\n",
        "A = np.random.randint(0, 10, m*n).reshape(m,n)\n",
        "b = np.random.randint(0, 10, n)\n",
        "print(A)\n",
        "print(b)"
      ]
    },
    {
      "cell_type": "markdown",
      "metadata": {
        "id": "9VAiRIX9ison"
      },
      "source": [
        "- (4,3)과 (3,)를 연산하기 위해 (3,)가 차원 확장됩니다.\n",
        "\n",
        "- (4,3), (1,3)으로 차원 맞추기가 되고 난 후 (1,3)이 (4,3)으로 확장됩니다. 이때 확장되는 요소들은 복사되어 늘어납니다.\n",
        "\n",
        "- (4,3)으로 모양이 맞춰졌으니 서로 연산을 수행합니다."
      ]
    },
    {
      "cell_type": "code",
      "execution_count": null,
      "metadata": {
        "colab": {
          "base_uri": "https://localhost:8080/"
        },
        "id": "4q5SyRUE6_z3",
        "outputId": "7126ea22-289c-413e-e2a9-e1c151d6384f"
      },
      "outputs": [
        {
          "data": {
            "text/plain": [
              "array([[56, 24, 36],\n",
              "       [14, 24, 42],\n",
              "       [14,  3, 30],\n",
              "       [28, 12, 30]])"
            ]
          },
          "execution_count": 87,
          "metadata": {},
          "output_type": "execute_result"
        }
      ],
      "source": []
    },
    {
      "cell_type": "markdown",
      "metadata": {
        "id": "9PtGCHcDjL1H"
      },
      "source": [
        "- 다른 몇가지 예를 보면서 브로드캐스팅이 어떻게 일어나는지 견고하게 이해해야만 합니다.\n",
        "\n",
        "- 이어지는 예를 슬라이드 그림과 함께 확인하세요.\n",
        "\n",
        "- 아래 예는 열벡터 요소 4개짜리와 행벡터 요소 3개 짜리를 곱하는 연산입니다.\n",
        "\n"
      ]
    },
    {
      "cell_type": "code",
      "execution_count": null,
      "metadata": {
        "colab": {
          "base_uri": "https://localhost:8080/"
        },
        "id": "tNC4-3ES7YnE",
        "outputId": "6e16bd4c-7541-460f-b9e0-4b744b24ae2a"
      },
      "outputs": [
        {
          "name": "stdout",
          "output_type": "stream",
          "text": [
            "[[9]\n",
            " [0]\n",
            " [1]\n",
            " [7]]\n",
            "[1 7 2]\n"
          ]
        }
      ],
      "source": [
        "np.random.seed(11)\n",
        "\n",
        "m, n = 4, 3\n",
        "a = np.random.randint(0, 10, m).reshape(-1,1)\n",
        "b = a.reshape(-1)\n",
        "b = np.array([1,7,2])\n",
        "print(a)\n",
        "print(b)"
      ]
    },
    {
      "cell_type": "markdown",
      "metadata": {
        "id": "2aVeIcaR_a3g"
      },
      "source": [
        "- 어떻게 수행되나요?"
      ]
    },
    {
      "cell_type": "code",
      "execution_count": null,
      "metadata": {
        "colab": {
          "base_uri": "https://localhost:8080/"
        },
        "id": "byaQnPi07ac2",
        "outputId": "e111f184-63b0-4888-9f2e-f722f0b83f83"
      },
      "outputs": [
        {
          "data": {
            "text/plain": [
              "array([[ 9, 63, 18],\n",
              "       [ 0,  0,  0],\n",
              "       [ 1,  7,  2],\n",
              "       [ 7, 49, 14]])"
            ]
          },
          "execution_count": 93,
          "metadata": {},
          "output_type": "execute_result"
        }
      ],
      "source": []
    },
    {
      "cell_type": "markdown",
      "metadata": {
        "id": "TCzlPNo3_zzr"
      },
      "source": [
        "- 앞쪽에 있는 모든 숫자와 뒤쪽에 있는 모든 숫자가 상호 조합되면서 모든 조합에 대해서 곱셈이 일어났습니다!\n",
        "\n",
        "- 이걸 for 루프로 구현한다고 생각해보면 numpy 연산이 얼마나 효율적으로 작동하는지 충분히 상상할 수 있습니다."
      ]
    },
    {
      "cell_type": "markdown",
      "metadata": {
        "id": "b7q64zBFgaTq"
      },
      "source": [
        "#### [연습] 브로드캐스팅 가능?\n",
        "\n",
        "- 임의의 (4,3), (3,1) 두 어레이를 곱셈하고 브로드캐스팅이 일어나는지 확인하세요."
      ]
    },
    {
      "cell_type": "code",
      "execution_count": null,
      "metadata": {
        "colab": {
          "base_uri": "https://localhost:8080/",
          "height": 188
        },
        "id": "5_9eCVvpTAUd",
        "outputId": "225e8314-7956-4977-c217-122b10b5ddd6"
      },
      "outputs": [
        {
          "ename": "ValueError",
          "evalue": "operands could not be broadcast together with shapes (4,3) (3,1) ",
          "output_type": "error",
          "traceback": [
            "\u001b[0;31m---------------------------------------------------------------------------\u001b[0m",
            "\u001b[0;31mValueError\u001b[0m                                Traceback (most recent call last)",
            "\u001b[0;32m<ipython-input-94-9e20bf58e9a2>\u001b[0m in \u001b[0;36m<cell line: 5>\u001b[0;34m()\u001b[0m\n\u001b[1;32m      3\u001b[0m \u001b[0mB\u001b[0m \u001b[0;34m=\u001b[0m \u001b[0mnp\u001b[0m\u001b[0;34m.\u001b[0m\u001b[0mrandom\u001b[0m\u001b[0;34m.\u001b[0m\u001b[0mrand\u001b[0m\u001b[0;34m(\u001b[0m\u001b[0;36m3\u001b[0m\u001b[0;34m)\u001b[0m\u001b[0;34m.\u001b[0m\u001b[0mreshape\u001b[0m\u001b[0;34m(\u001b[0m\u001b[0;36m3\u001b[0m\u001b[0;34m,\u001b[0m\u001b[0;36m1\u001b[0m\u001b[0;34m)\u001b[0m\u001b[0;34m\u001b[0m\u001b[0;34m\u001b[0m\u001b[0m\n\u001b[1;32m      4\u001b[0m \u001b[0;34m\u001b[0m\u001b[0m\n\u001b[0;32m----> 5\u001b[0;31m \u001b[0mA\u001b[0m\u001b[0;34m*\u001b[0m\u001b[0mB\u001b[0m\u001b[0;34m\u001b[0m\u001b[0;34m\u001b[0m\u001b[0m\n\u001b[0m",
            "\u001b[0;31mValueError\u001b[0m: operands could not be broadcast together with shapes (4,3) (3,1) "
          ]
        }
      ],
      "source": [
        "# (4,3)*(3,1)?\n",
        "A = np.random.rand(12).reshape(4,3)\n",
        "B = np.random.rand(3).reshape(3,1)\n",
        "\n",
        "A*B"
      ]
    },
    {
      "cell_type": "markdown",
      "metadata": {
        "id": "x8lJD6i7RaVD"
      },
      "source": [
        "### 자주쓰는 기능 concatenate"
      ]
    },
    {
      "cell_type": "code",
      "execution_count": null,
      "metadata": {
        "colab": {
          "base_uri": "https://localhost:8080/"
        },
        "id": "i9BBz1thK6vs",
        "outputId": "6856b82f-08f6-4b78-ecba-80a4d3b077f0"
      },
      "outputs": [
        {
          "name": "stdout",
          "output_type": "stream",
          "text": [
            "[[1 2]\n",
            " [3 4]\n",
            " [5 6]]\n",
            "[[1 2]\n",
            " [3 4]\n",
            " [5 6]]\n",
            "[[1 2 5]\n",
            " [3 4 6]]\n",
            "[1 2 3 4 5 6]\n"
          ]
        }
      ],
      "source": [
        "# concatenate\n",
        "a = np.array([[1, 2], [3, 4]])\n",
        "b = np.array([[5, 6]])\n",
        "\n",
        "\n"
      ]
    },
    {
      "cell_type": "markdown",
      "metadata": {
        "id": "Ps3W4wj8RfSh"
      },
      "source": [
        "### 자주쓰는 기능 stack, hstack, vstack"
      ]
    },
    {
      "cell_type": "code",
      "execution_count": null,
      "metadata": {
        "colab": {
          "base_uri": "https://localhost:8080/"
        },
        "id": "EGsPJ5zgN1iT",
        "outputId": "cf5f5875-60a4-4b6c-d3de-173626bd1d47"
      },
      "outputs": [
        {
          "data": {
            "text/plain": [
              "array([[1, 2, 3],\n",
              "       [4, 5, 6]])"
            ]
          },
          "execution_count": 51,
          "metadata": {},
          "output_type": "execute_result"
        }
      ],
      "source": [
        "# stack\n",
        "a = np.array([1, 2, 3])\n",
        "b = np.array([4, 5, 6])\n",
        "\n"
      ]
    },
    {
      "cell_type": "code",
      "execution_count": null,
      "metadata": {
        "colab": {
          "base_uri": "https://localhost:8080/"
        },
        "id": "Mrk9GvziN_yq",
        "outputId": "5681164b-31e2-4301-9b61-cc354ed7bee3"
      },
      "outputs": [
        {
          "name": "stdout",
          "output_type": "stream",
          "text": [
            "[1 2 3 4 5 6]\n",
            "[1 2 3 4 5 6]\n"
          ]
        }
      ],
      "source": [
        "# hstack\n",
        "\n"
      ]
    },
    {
      "cell_type": "code",
      "execution_count": null,
      "metadata": {
        "colab": {
          "base_uri": "https://localhost:8080/"
        },
        "id": "39tQ30svOLin",
        "outputId": "b23a56a6-6e36-458b-db13-a12394e14ab5"
      },
      "outputs": [
        {
          "name": "stdout",
          "output_type": "stream",
          "text": [
            "[[1]\n",
            " [2]\n",
            " [3]\n",
            " [4]\n",
            " [5]\n",
            " [6]]\n",
            "[[1 4]\n",
            " [2 5]\n",
            " [3 6]]\n"
          ]
        }
      ],
      "source": [
        "# hstack\n",
        "\n"
      ]
    },
    {
      "cell_type": "code",
      "execution_count": null,
      "metadata": {
        "colab": {
          "base_uri": "https://localhost:8080/"
        },
        "id": "WaJBbsbSOiOh",
        "outputId": "f45ab433-c955-4ae1-cdb2-95324a03f7ce"
      },
      "outputs": [
        {
          "data": {
            "text/plain": [
              "array([[1, 2, 3],\n",
              "       [4, 5, 6]])"
            ]
          },
          "execution_count": 54,
          "metadata": {},
          "output_type": "execute_result"
        }
      ],
      "source": [
        "# vstack\n",
        "\n",
        "\n"
      ]
    },
    {
      "cell_type": "code",
      "execution_count": null,
      "metadata": {
        "colab": {
          "base_uri": "https://localhost:8080/"
        },
        "id": "dXvxheJjOlaE",
        "outputId": "289b7c50-dfb5-4844-925c-d5e0bb44a7f4"
      },
      "outputs": [
        {
          "data": {
            "text/plain": [
              "array([[1],\n",
              "       [2],\n",
              "       [3],\n",
              "       [4],\n",
              "       [5],\n",
              "       [6]])"
            ]
          },
          "execution_count": 55,
          "metadata": {},
          "output_type": "execute_result"
        }
      ],
      "source": [
        "# vstack\n",
        "\n"
      ]
    },
    {
      "cell_type": "markdown",
      "metadata": {
        "id": "5BElW3rnRkNb"
      },
      "source": [
        "### 자주쓰는 기능 squeeze"
      ]
    },
    {
      "cell_type": "code",
      "execution_count": null,
      "metadata": {
        "colab": {
          "base_uri": "https://localhost:8080/"
        },
        "id": "8H04AMOFPNjJ",
        "outputId": "cbae671c-6cf8-4523-bd6b-e9faacb2e589"
      },
      "outputs": [
        {
          "name": "stdout",
          "output_type": "stream",
          "text": [
            "(1, 3, 1)\n",
            "(3,)\n",
            "(3, 1)\n",
            "(1, 3)\n"
          ]
        }
      ],
      "source": [
        "# squeeze\n",
        "x = np.array([[[0], [1], [2]]])\n",
        "print(x.shape)\n",
        "\n"
      ]
    },
    {
      "cell_type": "markdown",
      "metadata": {
        "id": "XszhN3zU69mu"
      },
      "source": [
        "### 자주쓰는 기능 where"
      ]
    },
    {
      "cell_type": "code",
      "execution_count": null,
      "metadata": {
        "colab": {
          "base_uri": "https://localhost:8080/"
        },
        "id": "59nKN9aE6_CU",
        "outputId": "b8647d83-d5eb-4d2c-bdd6-6bc15efad360"
      },
      "outputs": [
        {
          "data": {
            "text/plain": [
              "array([[ 0,  1,  2],\n",
              "       [ 0,  2, -1],\n",
              "       [ 0,  3, -1]])"
            ]
          },
          "execution_count": 103,
          "metadata": {},
          "output_type": "execute_result"
        }
      ],
      "source": [
        "a = np.array([[0, 1, 2],\n",
        "              [0, 2, 4],\n",
        "              [0, 3, 6]])\n",
        "\n",
        "\n"
      ]
    },
    {
      "cell_type": "markdown",
      "metadata": {
        "id": "7n1X2_V8VG_0"
      },
      "source": [
        "### [종합 연습]\n",
        "\n",
        "- 이 연습에서는 LLM(Large Language Model)이 작동하는 방식을 numpy를 이용해서 추적해 봅니다.\n",
        "\n",
        "- 학습 시점에서 LLM에 다음을 입력했을 때\n",
        "    - \"##INPUT numpy를 꼭 배워야 하나요? ##RESPONSE 예 특히 AI 공부를 위해서는 필수적 입니다.\"\n",
        "\n",
        "- 입력과 출력은 다음처럼 구성됩니다.\n",
        "\n",
        "|   | t1 | t2 | t3 | t4 | t5 | t6 | t7 | t8 | t9 | t10 | t11 | t12 | t 13|\n",
        "|---|----|----|----|----|----|----|----|----|----|-----|-----|----|----|\n",
        "|**입력**|##INPUT|numpy를 | 꼭 | 배워야 | 하나요? |##RESPONSE| 예 | 특히 | AI | 공부를 | 위해서는 | 필수적 | 입니다.|\n",
        "|**출력**|numpy를| 꼭 | 배워야 | 하나요? |##RESPONSE| 예 | 특히 | AI | 공부를 | 위해서는 | 필수적 | 입니다.| end |\n",
        "\n",
        "- 이 과정을 시뮬레이션 하기 위해 위 예시 입력 문장을 사전 `tokens`를 이용해 입력 숫자들 `input_ids`로 바꾸고 출력에 해당하는 숫자도 `target`으로 준비합니다."
      ]
    },
    {
      "cell_type": "code",
      "execution_count": null,
      "metadata": {
        "colab": {
          "base_uri": "https://localhost:8080/"
        },
        "id": "8i8Awy5lVMD-",
        "outputId": "d1cdbe8f-3378-4499-ba6d-543a331066fa"
      },
      "outputs": [
        {
          "name": "stdout",
          "output_type": "stream",
          "text": [
            "입력이 변환된 토큰 인덱스:  [15, 7, 6, 2, 10, 16, 0, 13, 5, 8, 11, 4, 1]\n",
            "LLM이 출력해야할 타겟 인덱스:  [7, 6, 2, 10, 16, 0, 13, 5, 8, 11, 4, 1, 14]\n"
          ]
        }
      ],
      "source": [
        "import torch\n",
        "import torch.nn.functional as F\n",
        "\n",
        "tokens = { # length=17\n",
        "    '예': 0,\n",
        "    '입니다.': 1,\n",
        "    '배워야': 2,\n",
        "    '파이썬': 3,\n",
        "    '필수적': 4,\n",
        "    'AI': 5,\n",
        "    '꼭': 6,\n",
        "    'numpy를': 7,\n",
        "    '공부를': 8,\n",
        "    '모델': 9,\n",
        "    '하나요?': 10,\n",
        "    '위해서는': 11,\n",
        "    '데이터': 12,\n",
        "    '특히': 13,\n",
        "    '[end]': 14,\n",
        "    '##INPUT': 15,\n",
        "    '##RESPONSE': 16\n",
        "}\n",
        "\n",
        "sample = \"##INPUT numpy를 꼭 배워야 하나요? ##RESPONSE 예 특히 AI 공부를 위해서는 필수적 입니다.\"\n",
        "# sample을 공백으로 자르고 각 토큰을 사전 tokens에 조회해서 인덱스로 변환\n",
        "input_ids = [tokens[key] for key in sample.split()]\n",
        "print(\"입력이 변환된 토큰 인덱스: \", input_ids)\n",
        "\n",
        "target = input_ids[1:] + [14]\n",
        "print(\"LLM이 출력해야할 타겟 인덱스: \", target)\n",
        "\n",
        "# LLM의 응답이 ##RESPONSE 이후에 위치하므로\n",
        "# target에서 ##RESPONSE 토큰이 위치한 인덱스를 찾아둠\n",
        "response_idx = target.index(16)"
      ]
    },
    {
      "cell_type": "markdown",
      "metadata": {
        "id": "U32G6JU4pwsf"
      },
      "source": [
        "- 인덱스를 다시 토큰으로 변환하는 함수를 준비합니다."
      ]
    },
    {
      "cell_type": "code",
      "execution_count": null,
      "metadata": {
        "colab": {
          "base_uri": "https://localhost:8080/",
          "height": 36
        },
        "id": "ediMzRRhfxLs",
        "outputId": "65e4ef3d-d1dd-408c-f634-4e64f6d1d8fd"
      },
      "outputs": [
        {
          "data": {
            "application/vnd.google.colaboratory.intrinsic+json": {
              "type": "string"
            },
            "text/plain": [
              "'numpy를 꼭 배워야 하나요? ##RESPONSE 예 특히 AI 공부를 위해서는 필수적 입니다. [end]'"
            ]
          },
          "execution_count": 3,
          "metadata": {},
          "output_type": "execute_result"
        }
      ],
      "source": [
        "def decode(token_ids):\n",
        "    # token to index 사전을\n",
        "    # index to token 사전으로 변환합니다.\n",
        "    id2tokens = None\n",
        "\n",
        "    # 완성된 id2token을 이용하여 입력된 token_ids의 숫자들을\n",
        "    # 공백 ' ' 으로 연결된 토큰으로 바꿔 반환합니다.\n",
        "    return ' '.join([id2tokens[token_id] for token_id in token_ids])\n",
        "\n",
        "# target을 다시 문장으로 변환해 봅니다.\n",
        "decode(target)"
      ]
    },
    {
      "cell_type": "markdown",
      "metadata": {
        "id": "KfHw7F9Ap35C"
      },
      "source": [
        "- LLM을 시뮬레이션할 수 있는 간단한 함수 두개를 준비합니다.\n",
        "    - `init_language_model`: 학습되지 않은 LLM을 시뮬레이션\n",
        "    - `trained_language_model`: 학습된 LLM을 시뮬레이션(이 예제 입력 문장에 대해서만 바르게 작동함)"
      ]
    },
    {
      "cell_type": "code",
      "execution_count": null,
      "metadata": {
        "id": "ZmT0mGm4VL_c"
      },
      "outputs": [],
      "source": [
        "def init_language_model(x):\n",
        "    # return logit: (seq, vocab_size)\n",
        "    logit = np.random.rand(len(x), len(tokens))\n",
        "    return logit\n",
        "\n",
        "def trained_language_model(x):\n",
        "    # return logit: (seq, vocab_size)\n",
        "    logit = np.random.rand(len(x), len(tokens))\n",
        "    logit[np.arange(len(x)), target] = 1.5\n",
        "    return logit\n"
      ]
    },
    {
      "cell_type": "markdown",
      "metadata": {
        "id": "hOBDGuPNvEXS"
      },
      "source": [
        "- 이제 숫자로 변환된 입력을 각 모델이 입력하고 출력을 받아옵니다."
      ]
    },
    {
      "cell_type": "code",
      "execution_count": null,
      "metadata": {
        "id": "yRsoz4VWvCjm"
      },
      "outputs": [],
      "source": [
        "np.random.seed(0)\n",
        "\n",
        "logits = init_language_model(input_ids)"
      ]
    },
    {
      "cell_type": "markdown",
      "metadata": {
        "id": "T09TKWncvflA"
      },
      "source": [
        "- 모델의 출력은 (토큰길이, 단어장길이)인 2차원 numpy 어레이입니다.\n",
        "\n",
        "- 각 자리의 의미는 해당 토큰 자리에 각 단어가 오게될 점수입니다."
      ]
    },
    {
      "cell_type": "code",
      "execution_count": null,
      "metadata": {
        "colab": {
          "base_uri": "https://localhost:8080/"
        },
        "id": "CYw0evGwvtmN",
        "outputId": "40895ba4-25e4-4b8d-8eb3-c242c157e872"
      },
      "outputs": [
        {
          "data": {
            "text/plain": [
              "array([[0.5488, 0.7152, 0.6028, 0.5449, 0.4237, 0.6459, 0.4376, 0.8918, 0.9637, 0.3834, 0.7917, 0.5289, 0.568 , 0.9256, 0.071 , 0.0871, 0.0202],\n",
              "       [0.8326, 0.7782, 0.87  , 0.9786, 0.7992, 0.4615, 0.7805, 0.1183, 0.6399, 0.1434, 0.9447, 0.5218, 0.4147, 0.2646, 0.7742, 0.4562, 0.5684],\n",
              "       [0.0188, 0.6176, 0.6121, 0.6169, 0.9437, 0.6818, 0.3595, 0.437 , 0.6976, 0.0602, 0.6668, 0.6706, 0.2104, 0.1289, 0.3154, 0.3637, 0.5702],\n",
              "       [0.4386, 0.9884, 0.102 , 0.2089, 0.1613, 0.6531, 0.2533, 0.4663, 0.2444, 0.159 , 0.1104, 0.6563, 0.1382, 0.1966, 0.3687, 0.821 , 0.0971],\n",
              "       [0.8379, 0.0961, 0.9765, 0.4687, 0.9768, 0.6048, 0.7393, 0.0392, 0.2828, 0.1202, 0.2961, 0.1187, 0.318 , 0.4143, 0.0641, 0.6925, 0.5666],\n",
              "       [0.2654, 0.5232, 0.0939, 0.5759, 0.9293, 0.3186, 0.6674, 0.1318, 0.7163, 0.2894, 0.1832, 0.5865, 0.0201, 0.8289, 0.0047, 0.6778, 0.27  ],\n",
              "       [0.7352, 0.9622, 0.2488, 0.5762, 0.592 , 0.5723, 0.2231, 0.9527, 0.4471, 0.8464, 0.6995, 0.2974, 0.8138, 0.3965, 0.8811, 0.5813, 0.8817],\n",
              "       [0.6925, 0.7253, 0.5013, 0.9561, 0.644 , 0.4239, 0.6064, 0.0192, 0.3016, 0.6602, 0.2901, 0.618 , 0.4288, 0.1355, 0.2983, 0.57  , 0.5909],\n",
              "       [0.5743, 0.6532, 0.6521, 0.4314, 0.8965, 0.3676, 0.4359, 0.8919, 0.8062, 0.7039, 0.1002, 0.9195, 0.7142, 0.9988, 0.1494, 0.8681, 0.1625],\n",
              "       [0.6156, 0.1238, 0.848 , 0.8073, 0.5691, 0.4072, 0.0692, 0.6974, 0.4535, 0.7221, 0.8664, 0.9755, 0.8558, 0.0117, 0.36  , 0.73  , 0.1716],\n",
              "       [0.521 , 0.0543, 0.2   , 0.0185, 0.7937, 0.2239, 0.3454, 0.9281, 0.7044, 0.0318, 0.1647, 0.6215, 0.5772, 0.2379, 0.9342, 0.614 , 0.5356],\n",
              "       [0.5899, 0.7301, 0.3119, 0.3982, 0.2098, 0.1862, 0.9444, 0.7396, 0.4905, 0.2274, 0.2544, 0.058 , 0.4344, 0.3118, 0.6963, 0.3778, 0.1796],\n",
              "       [0.0247, 0.0672, 0.6794, 0.4537, 0.5366, 0.8967, 0.9903, 0.2169, 0.6631, 0.2633, 0.0207, 0.7584, 0.32  , 0.3835, 0.5883, 0.831 , 0.629 ]])"
            ]
          },
          "execution_count": 18,
          "metadata": {},
          "output_type": "execute_result"
        }
      ],
      "source": [
        "logits"
      ]
    },
    {
      "cell_type": "markdown",
      "metadata": {
        "id": "7pmCk1qMvw93"
      },
      "source": [
        "- 위 2차원 어레이에서 각 행별로 가장 큰 숫자를 골라 그 위치를 `tokens`에서 조회하면 모델이 출력한 2차원 어레이를 다시 문장으로 변환할 수 있습니다.\n",
        "\n",
        "- 이 과정을 다음 `convert_model_output()`를 단계별로 완성하면서 확인해보세요."
      ]
    },
    {
      "cell_type": "code",
      "execution_count": null,
      "metadata": {
        "colab": {
          "base_uri": "https://localhost:8080/"
        },
        "id": "EL4zl5gOVL9F",
        "outputId": "d727cf2c-9777-4525-cb76-abb0d7e2e993"
      },
      "outputs": [
        {
          "name": "stdout",
          "output_type": "stream",
          "text": [
            "출력된 ##RESPONSE 이후의 토큰 인덱스:  [ 4  1  3 13 11 14  6  6]\n",
            "출력된 ##RESPONSE 이후의 토큰 인덱스 디코딩:  필수적 입니다. 파이썬 특히 위해서는 [end] 꼭 꼭\n",
            "모델 출력에 대한 손실(타겟 응답의 마이너스 존재 확률):  2.753\n",
            "손실함수 계산 성공\n"
          ]
        }
      ],
      "source": [
        "def convert_model_output(logits):\n",
        "    ############################################################################\n",
        "    # llm의 출력 logits에 소프트맥스를 적용\n",
        "    # logits의 0번 축은 출력 토큰의 방향이고 1번축이 각 단어 위치를 나타내므로\n",
        "    # 소프트맥스는 axis=1로 적용해야 함\n",
        "    # 소프트맥스 계산을 위한 지수함수는 np.exp() 사용\n",
        "    softmax_logits = None\n",
        "\n",
        "    # softmax_logits에서 response_idx이후 자리에서 값이 가장 큰 인덱스를 구함\n",
        "    # np.argmax() 사용\n",
        "    gen_response = None\n",
        "    print('출력된 ##RESPONSE 이후의 토큰 인덱스: ', gen_response)\n",
        "    ############################################################################\n",
        "\n",
        "\n",
        "    # 구해진 response_idx이후 인덱스를 문장으로 되돌림\n",
        "    print('출력된 ##RESPONSE 이후의 토큰 인덱스 디코딩: ', decode(gen_response))\n",
        "\n",
        "\n",
        "    ############################################################################\n",
        "    # 생성된 응답의 정답자리 로그 확률 합\n",
        "    # 실제 가장 큰 확률값을 가져야 할 target의 자리에\n",
        "    # 어떤 확률값들이 존재하는지 확인하느 단계로\n",
        "    # response_idx 이후 토큰에 대한 출력에서 정답자리에 해당하는 위치의 확률값의\n",
        "    # 마이너스 로그값을 평균함\n",
        "\n",
        "    # 단계1: target에서 response_idx이후 기록된 인덱스(토큰 번호)를 가져옴\n",
        "    response_pos = target[response_idx+1:]\n",
        "\n",
        "    # 단계2: 모델의 출력에 softmax씌운 softmax_logits에서 response_idx 이후 결과만 가져옴\n",
        "    response_output = None\n",
        "\n",
        "    # 단계3: 단계2에서 만들어진 response_output에서 각 행에 response_pos를 적용해 정답자리의 값만 가져옴\n",
        "    prob_response_pos = None\n",
        "\n",
        "    # 단계4: prob_response_pos의 -log값을 평균\n",
        "    # -log를 위해서 -np.log()를 사용, 평균을 위해서는 np.mean() 사용\n",
        "    loss = None\n",
        "    print('모델 출력에 대한 손실(타겟 응답의 마이너스 존재 확률): ', round(loss,3))\n",
        "    ############################################################################\n",
        "\n",
        "    # 손실 계산 검증\n",
        "    loss_ref = F.cross_entropy(torch.tensor(logits[response_idx+1:]), torch.tensor(response_pos))\n",
        "    if round(loss,3) == round(loss_ref.item(),3):\n",
        "        print(\"손실함수 계산 성공\")\n",
        "    else:\n",
        "        print(\"손실함수 계산 실패\")\n",
        "\n",
        "convert_model_output(logits)"
      ]
    },
    {
      "cell_type": "code",
      "execution_count": null,
      "metadata": {
        "colab": {
          "base_uri": "https://localhost:8080/"
        },
        "id": "fpdfM08mgTgI",
        "outputId": "cf4d54b8-ee13-4525-a75b-c3410f0b3820"
      },
      "outputs": [
        {
          "name": "stdout",
          "output_type": "stream",
          "text": [
            "출력된 ##RESPONSE 이후의 토큰 인덱스:  [ 0 13  5  8 11  4  1 14]\n",
            "출력된 ##RESPONSE 이후의 토큰 인덱스 디코딩:  예 특히 AI 공부를 위해서는 필수적 입니다. [end]\n",
            "모델 출력에 대한 손실(타겟 응답의 마이너스 존재 확률):  1.936\n",
            "손실함수 계산 성공\n"
          ]
        }
      ],
      "source": [
        "# convert_model_output()이 완성되었으면 학습된 모델에 대한 출력을\n",
        "# 입력하여 손실함수를 구해본다.\n",
        "# 여기서 출력되는 손실함수는 앞서 출력한 손실함수 값보다 작아야 함.\n",
        "logits_train = trained_language_model(input_ids)\n",
        "\n",
        "convert_model_output(logits_train)\n"
      ]
    },
    {
      "cell_type": "code",
      "execution_count": null,
      "metadata": {
        "colab": {
          "base_uri": "https://localhost:8080/"
        },
        "id": "lW5Y5CNHkOZ3",
        "outputId": "63979dff-a822-419b-e022-9e776bc3c6b3"
      },
      "outputs": [
        {
          "data": {
            "text/plain": [
              "1.936"
            ]
          },
          "execution_count": 24,
          "metadata": {},
          "output_type": "execute_result"
        }
      ],
      "source": [
        "# 직접 계산한 손실함수 값이 정확한지 검증하기 위해 파이토치에서 제공하는\n",
        "# cross_entropy함수를 써서 확인\n",
        "# 이 셀의 출력 결과는 위 셀에서 계산한 값과 정확히 일치해야 함\n",
        "import torch\n",
        "import torch.nn.functional as F\n",
        "\n",
        "round(F.cross_entropy(torch.tensor(logits_train[response_idx+1:]), torch.tensor(target[response_idx+1:])).item(),3)"
      ]
    },
    {
      "cell_type": "code",
      "execution_count": null,
      "metadata": {
        "id": "ZmyOU0o2MnIY"
      },
      "outputs": [],
      "source": []
    }
  ],
  "metadata": {
    "colab": {
      "provenance": [],
      "toc_visible": true
    },
    "kernelspec": {
      "display_name": "Python 3",
      "name": "python3"
    },
    "language_info": {
      "name": "python",
      "version": "3.13.2"
    }
  },
  "nbformat": 4,
  "nbformat_minor": 0
}
